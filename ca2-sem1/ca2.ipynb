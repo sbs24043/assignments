{
 "cells": [
  {
   "cell_type": "code",
   "execution_count": 263,
   "id": "75937b4e-3731-42ff-9f55-17ea72d070e6",
   "metadata": {},
   "outputs": [],
   "source": [
    "import requests\n",
    "import csv\n",
    "import pandas as pd\n",
    "import matplotlib.pyplot as plt\n",
    "import seaborn as sns\n",
    "import numpy as np\n",
    "import json\n",
    "from matplotlib.pyplot import figure\n",
    "import plotly.express as px\n",
    "from mplcursors import cursor  # separate package must be installed\n",
    "from os import listdir\n",
    "\n",
    "\n",
    "\n",
    "import utils\n"
   ]
  },
  {
   "cell_type": "code",
   "execution_count": 193,
   "id": "8312b1dd",
   "metadata": {},
   "outputs": [],
   "source": [
    "from IPython.core.interactiveshell import InteractiveShell\n",
    "InteractiveShell.ast_node_interactivity = \"all\""
   ]
  },
  {
   "cell_type": "code",
   "execution_count": null,
   "id": "26aaecf1-49db-4fc0-993a-8d99aebe44f8",
   "metadata": {},
   "outputs": [],
   "source": [
    "# https://www.kaggle.com/code/sahilgarg108/hyperparameter-tuning-92-f1-auc-roc\n",
    "# https://www.fao.org/faostat/en/#data/QCL\n",
    "# FAOSTAT_data_en_4-21-2024.csv\n",
    "# https://www.kirenz.com/blog/posts/2022-06-17-sentiment-analysis-with-tensorflow-and-keras/\n",
    "\n",
    "# FAO\n",
    "# https://www.fao.org/faostat/en/#data/RFB -- > Fertilizer use\n",
    "# https://www.fao.org/faostat/en/#data/QCL --> Crops and livestock products\n",
    "\n",
    "# World Bank Indicators \n",
    "# https://data.worldbank.org/indicator\n",
    "# https://databank.worldbank.org/reports.aspx?source=2&series=NV.AGR.TOTL.ZS&country=\n",
    "\n",
    "# https://www.ers.usda.gov/webdocs/outlooks/40408/30645_wrs0404e_002.pdf\n",
    "\n",
    "# Austria Belgium Denmark  France Finland \n",
    "# Germany Greece Italy Netherlands \n",
    "# Portugal Spain Sweden UK\n"
   ]
  },
  {
   "cell_type": "code",
   "execution_count": null,
   "id": "54faf960",
   "metadata": {},
   "outputs": [],
   "source": [
    "# Time series analysis\n",
    "# https://www.kaggle.com/code/prashant111/complete-guide-on-time-series-analysis-in-python\n"
   ]
  },
  {
   "cell_type": "code",
   "execution_count": 257,
   "id": "5db1dc47",
   "metadata": {},
   "outputs": [],
   "source": [
    "# Returns a cleaned up dataframe with columns dropped and column names converted into 'variable name' like format\n",
    "def do_basic_cleanup(df, drop_cols):\n",
    "    df = df.rename(columns={c: c.lower().replace(\" \", \"_\").replace(\"(\", \"\").replace(\")\", \"\") for c in df.columns})\n",
    "    try:\n",
    "      df = df.drop(columns=drop_cols)\n",
    "    except Exception as e:\n",
    "      print(e)\n",
    "    return df"
   ]
  },
  {
   "cell_type": "code",
   "execution_count": 298,
   "id": "542752f4",
   "metadata": {},
   "outputs": [
    {
     "name": "stdout",
     "output_type": "stream",
     "text": [
      "FAOSTAT_data_en_4-28-2024_Port_Swe.csv (41402, 8)\n",
      "FAOSTAT_data_en_4-28-2024_Ger_Neth.csv (55646, 8)\n",
      "FAOSTAT_data_en_4-28-2024_Aust_Fin.csv (46988, 8)\n",
      "FAOSTAT_data_en_4-28-2024_IRL.csv (6452, 8)\n"
     ]
    }
   ],
   "source": [
    "df = pd.DataFrame()\n",
    "\n",
    "for file in listdir('data'):\n",
    "  df_part = pd.read_csv(\"data/\" + file, on_bad_lines='warn')\n",
    "  df_part = do_basic_cleanup(df_part, ['domain_code', 'area_code_m49', 'element_code', 'item_code_cpc', 'year_code', 'note', 'flag'])\n",
    "  print(file, df_part.shape)\n",
    "  df = pd.concat([df, df_part], ignore_index=True)"
   ]
  },
  {
   "cell_type": "code",
   "execution_count": 299,
   "id": "fa7d5be7",
   "metadata": {},
   "outputs": [
    {
     "data": {
      "text/plain": [
       "(150488, 8)"
      ]
     },
     "execution_count": 299,
     "metadata": {},
     "output_type": "execute_result"
    },
    {
     "data": {
      "text/html": [
       "<div>\n",
       "<style scoped>\n",
       "    .dataframe tbody tr th:only-of-type {\n",
       "        vertical-align: middle;\n",
       "    }\n",
       "\n",
       "    .dataframe tbody tr th {\n",
       "        vertical-align: top;\n",
       "    }\n",
       "\n",
       "    .dataframe thead th {\n",
       "        text-align: right;\n",
       "    }\n",
       "</style>\n",
       "<table border=\"1\" class=\"dataframe\">\n",
       "  <thead>\n",
       "    <tr style=\"text-align: right;\">\n",
       "      <th></th>\n",
       "      <th>domain</th>\n",
       "      <th>area</th>\n",
       "      <th>element</th>\n",
       "      <th>item</th>\n",
       "      <th>year</th>\n",
       "      <th>unit</th>\n",
       "      <th>value</th>\n",
       "      <th>flag_description</th>\n",
       "    </tr>\n",
       "  </thead>\n",
       "  <tbody>\n",
       "    <tr>\n",
       "      <th>0</th>\n",
       "      <td>Crops and livestock products</td>\n",
       "      <td>Portugal</td>\n",
       "      <td>Area harvested</td>\n",
       "      <td>Almonds, in shell</td>\n",
       "      <td>1961</td>\n",
       "      <td>ha</td>\n",
       "      <td>37000</td>\n",
       "      <td>Estimated value</td>\n",
       "    </tr>\n",
       "    <tr>\n",
       "      <th>1</th>\n",
       "      <td>Crops and livestock products</td>\n",
       "      <td>Portugal</td>\n",
       "      <td>Yield</td>\n",
       "      <td>Almonds, in shell</td>\n",
       "      <td>1961</td>\n",
       "      <td>100 g/ha</td>\n",
       "      <td>4324</td>\n",
       "      <td>Estimated value</td>\n",
       "    </tr>\n",
       "    <tr>\n",
       "      <th>2</th>\n",
       "      <td>Crops and livestock products</td>\n",
       "      <td>Portugal</td>\n",
       "      <td>Production</td>\n",
       "      <td>Almonds, in shell</td>\n",
       "      <td>1961</td>\n",
       "      <td>t</td>\n",
       "      <td>16000</td>\n",
       "      <td>Official figure</td>\n",
       "    </tr>\n",
       "    <tr>\n",
       "      <th>3</th>\n",
       "      <td>Crops and livestock products</td>\n",
       "      <td>Portugal</td>\n",
       "      <td>Area harvested</td>\n",
       "      <td>Almonds, in shell</td>\n",
       "      <td>1962</td>\n",
       "      <td>ha</td>\n",
       "      <td>38000</td>\n",
       "      <td>Estimated value</td>\n",
       "    </tr>\n",
       "    <tr>\n",
       "      <th>4</th>\n",
       "      <td>Crops and livestock products</td>\n",
       "      <td>Portugal</td>\n",
       "      <td>Yield</td>\n",
       "      <td>Almonds, in shell</td>\n",
       "      <td>1962</td>\n",
       "      <td>100 g/ha</td>\n",
       "      <td>4737</td>\n",
       "      <td>Estimated value</td>\n",
       "    </tr>\n",
       "  </tbody>\n",
       "</table>\n",
       "</div>"
      ],
      "text/plain": [
       "                         domain      area         element               item  \\\n",
       "0  Crops and livestock products  Portugal  Area harvested  Almonds, in shell   \n",
       "1  Crops and livestock products  Portugal           Yield  Almonds, in shell   \n",
       "2  Crops and livestock products  Portugal      Production  Almonds, in shell   \n",
       "3  Crops and livestock products  Portugal  Area harvested  Almonds, in shell   \n",
       "4  Crops and livestock products  Portugal           Yield  Almonds, in shell   \n",
       "\n",
       "   year      unit  value flag_description  \n",
       "0  1961        ha  37000  Estimated value  \n",
       "1  1961  100 g/ha   4324  Estimated value  \n",
       "2  1961         t  16000  Official figure  \n",
       "3  1962        ha  38000  Estimated value  \n",
       "4  1962  100 g/ha   4737  Estimated value  "
      ]
     },
     "execution_count": 299,
     "metadata": {},
     "output_type": "execute_result"
    }
   ],
   "source": [
    "df.value = df.value.astype('int64')\n",
    "df.shape\n",
    "df.head()"
   ]
  },
  {
   "cell_type": "code",
   "execution_count": 300,
   "id": "971691e4",
   "metadata": {},
   "outputs": [
    {
     "data": {
      "text/plain": [
       "unit\n",
       "t           61419\n",
       "ha          49394\n",
       "100 g/ha    39675\n",
       "Name: count, dtype: int64"
      ]
     },
     "execution_count": 300,
     "metadata": {},
     "output_type": "execute_result"
    }
   ],
   "source": [
    "df.unit.value_counts()"
   ]
  },
  {
   "cell_type": "code",
   "execution_count": 301,
   "id": "a791e472",
   "metadata": {},
   "outputs": [
    {
     "data": {
      "text/plain": [
       "(3222, 5)"
      ]
     },
     "execution_count": 301,
     "metadata": {},
     "output_type": "execute_result"
    },
    {
     "data": {
      "text/html": [
       "<div>\n",
       "<style scoped>\n",
       "    .dataframe tbody tr th:only-of-type {\n",
       "        vertical-align: middle;\n",
       "    }\n",
       "\n",
       "    .dataframe tbody tr th {\n",
       "        vertical-align: top;\n",
       "    }\n",
       "\n",
       "    .dataframe thead th {\n",
       "        text-align: right;\n",
       "    }\n",
       "</style>\n",
       "<table border=\"1\" class=\"dataframe\">\n",
       "  <thead>\n",
       "    <tr style=\"text-align: right;\">\n",
       "      <th></th>\n",
       "      <th>index</th>\n",
       "      <th>item</th>\n",
       "      <th>element</th>\n",
       "      <th>area</th>\n",
       "      <th>all_time_mean</th>\n",
       "    </tr>\n",
       "  </thead>\n",
       "  <tbody>\n",
       "    <tr>\n",
       "      <th>0</th>\n",
       "      <td>0</td>\n",
       "      <td>Almonds, in shell</td>\n",
       "      <td>Area harvested</td>\n",
       "      <td>Belgium</td>\n",
       "      <td>0.00</td>\n",
       "    </tr>\n",
       "    <tr>\n",
       "      <th>1</th>\n",
       "      <td>1</td>\n",
       "      <td>Almonds, in shell</td>\n",
       "      <td>Area harvested</td>\n",
       "      <td>Finland</td>\n",
       "      <td>0.00</td>\n",
       "    </tr>\n",
       "    <tr>\n",
       "      <th>2</th>\n",
       "      <td>2</td>\n",
       "      <td>Almonds, in shell</td>\n",
       "      <td>Area harvested</td>\n",
       "      <td>France</td>\n",
       "      <td>940.92</td>\n",
       "    </tr>\n",
       "    <tr>\n",
       "      <th>3</th>\n",
       "      <td>3</td>\n",
       "      <td>Almonds, in shell</td>\n",
       "      <td>Area harvested</td>\n",
       "      <td>Greece</td>\n",
       "      <td>14082.44</td>\n",
       "    </tr>\n",
       "    <tr>\n",
       "      <th>4</th>\n",
       "      <td>4</td>\n",
       "      <td>Almonds, in shell</td>\n",
       "      <td>Area harvested</td>\n",
       "      <td>Ireland</td>\n",
       "      <td>0.00</td>\n",
       "    </tr>\n",
       "  </tbody>\n",
       "</table>\n",
       "</div>"
      ],
      "text/plain": [
       "   index               item         element     area  all_time_mean\n",
       "0      0  Almonds, in shell  Area harvested  Belgium           0.00\n",
       "1      1  Almonds, in shell  Area harvested  Finland           0.00\n",
       "2      2  Almonds, in shell  Area harvested   France         940.92\n",
       "3      3  Almonds, in shell  Area harvested   Greece       14082.44\n",
       "4      4  Almonds, in shell  Area harvested  Ireland           0.00"
      ]
     },
     "execution_count": 301,
     "metadata": {},
     "output_type": "execute_result"
    }
   ],
   "source": [
    "def calc_means(df):\n",
    "  df = df[['item', 'element', 'area', 'value']]\n",
    "  return df.groupby(by=['item', 'element', 'area'], as_index=False).mean()\n",
    "\n",
    "means_df = calc_means(df).rename(columns={'value': 'all_time_mean'})\n",
    "means_df.all_time_mean = means_df.all_time_mean.apply(lambda x: round(x, 2))\n",
    "\n",
    "means_df = means_df.reset_index()\n",
    "means_df.shape\n",
    "means_df.head()"
   ]
  },
  {
   "cell_type": "code",
   "execution_count": 302,
   "id": "85d03213",
   "metadata": {},
   "outputs": [
    {
     "data": {
      "text/plain": [
       "(150488, 10)"
      ]
     },
     "execution_count": 302,
     "metadata": {},
     "output_type": "execute_result"
    }
   ],
   "source": [
    "df = df.merge(means_df, on=['item', 'element', 'area'])\n",
    "df.shape"
   ]
  },
  {
   "cell_type": "code",
   "execution_count": 303,
   "id": "0fb8feec",
   "metadata": {},
   "outputs": [
    {
     "data": {
      "text/plain": [
       "(3222, 4)"
      ]
     },
     "execution_count": 303,
     "metadata": {},
     "output_type": "execute_result"
    },
    {
     "data": {
      "text/html": [
       "<div>\n",
       "<style scoped>\n",
       "    .dataframe tbody tr th:only-of-type {\n",
       "        vertical-align: middle;\n",
       "    }\n",
       "\n",
       "    .dataframe tbody tr th {\n",
       "        vertical-align: top;\n",
       "    }\n",
       "\n",
       "    .dataframe thead th {\n",
       "        text-align: right;\n",
       "    }\n",
       "</style>\n",
       "<table border=\"1\" class=\"dataframe\">\n",
       "  <thead>\n",
       "    <tr style=\"text-align: right;\">\n",
       "      <th></th>\n",
       "      <th>item</th>\n",
       "      <th>element</th>\n",
       "      <th>area</th>\n",
       "      <th>quantile</th>\n",
       "    </tr>\n",
       "  </thead>\n",
       "  <tbody>\n",
       "    <tr>\n",
       "      <th>0</th>\n",
       "      <td>Almonds, in shell</td>\n",
       "      <td>Area harvested</td>\n",
       "      <td>Portugal</td>\n",
       "      <td>50%</td>\n",
       "    </tr>\n",
       "    <tr>\n",
       "      <th>1</th>\n",
       "      <td>Apples</td>\n",
       "      <td>Area harvested</td>\n",
       "      <td>Portugal</td>\n",
       "      <td>50%</td>\n",
       "    </tr>\n",
       "    <tr>\n",
       "      <th>2</th>\n",
       "      <td>Apricots</td>\n",
       "      <td>Area harvested</td>\n",
       "      <td>Portugal</td>\n",
       "      <td>25%</td>\n",
       "    </tr>\n",
       "    <tr>\n",
       "      <th>3</th>\n",
       "      <td>Artichokes</td>\n",
       "      <td>Area harvested</td>\n",
       "      <td>Portugal</td>\n",
       "      <td>25%</td>\n",
       "    </tr>\n",
       "    <tr>\n",
       "      <th>4</th>\n",
       "      <td>Asparagus</td>\n",
       "      <td>Area harvested</td>\n",
       "      <td>Portugal</td>\n",
       "      <td>25%</td>\n",
       "    </tr>\n",
       "  </tbody>\n",
       "</table>\n",
       "</div>"
      ],
      "text/plain": [
       "                item         element      area quantile\n",
       "0  Almonds, in shell  Area harvested  Portugal      50%\n",
       "1             Apples  Area harvested  Portugal      50%\n",
       "2           Apricots  Area harvested  Portugal      25%\n",
       "3         Artichokes  Area harvested  Portugal      25%\n",
       "4          Asparagus  Area harvested  Portugal      25%"
      ]
     },
     "execution_count": 303,
     "metadata": {},
     "output_type": "execute_result"
    }
   ],
   "source": [
    "quantiles = pd.DataFrame()\n",
    "\n",
    "for el in df.element.unique().tolist():\n",
    "  for area in df.area.unique().tolist():\n",
    "    q = df[(df.element == el) & (df.area == area)][['item', 'element', 'area', 'all_time_mean']].drop_duplicates()\n",
    "    q['quantile'] = pd.qcut(df.value, np.linspace(0,1,4), labels=[\"25%\", \"50%\", \"75%\"])\n",
    "    q = q.drop(columns=['all_time_mean'])\n",
    "    quantiles = pd.concat([quantiles, q], ignore_index=True)\n",
    "\n",
    "quantiles = quantiles.reset_index(drop=True)\n",
    "quantiles.shape\n",
    "quantiles.head()\n"
   ]
  },
  {
   "cell_type": "code",
   "execution_count": 304,
   "id": "27e84d7d",
   "metadata": {},
   "outputs": [
    {
     "data": {
      "text/plain": [
       "(150488, 11)"
      ]
     },
     "execution_count": 304,
     "metadata": {},
     "output_type": "execute_result"
    }
   ],
   "source": [
    "df = df.merge(quantiles, on=['item', 'element', 'area'])\n",
    "df.shape"
   ]
  },
  {
   "cell_type": "code",
   "execution_count": 305,
   "id": "1a48a376",
   "metadata": {},
   "outputs": [
    {
     "data": {
      "text/html": [
       "<div>\n",
       "<style scoped>\n",
       "    .dataframe tbody tr th:only-of-type {\n",
       "        vertical-align: middle;\n",
       "    }\n",
       "\n",
       "    .dataframe tbody tr th {\n",
       "        vertical-align: top;\n",
       "    }\n",
       "\n",
       "    .dataframe thead th {\n",
       "        text-align: right;\n",
       "    }\n",
       "</style>\n",
       "<table border=\"1\" class=\"dataframe\">\n",
       "  <thead>\n",
       "    <tr style=\"text-align: right;\">\n",
       "      <th></th>\n",
       "      <th>domain</th>\n",
       "      <th>area</th>\n",
       "      <th>element</th>\n",
       "      <th>item</th>\n",
       "      <th>year</th>\n",
       "      <th>unit</th>\n",
       "      <th>value</th>\n",
       "      <th>flag_description</th>\n",
       "      <th>index</th>\n",
       "      <th>all_time_mean</th>\n",
       "      <th>quantile</th>\n",
       "    </tr>\n",
       "  </thead>\n",
       "  <tbody>\n",
       "    <tr>\n",
       "      <th>150483</th>\n",
       "      <td>Crops and livestock products</td>\n",
       "      <td>Ireland</td>\n",
       "      <td>Production</td>\n",
       "      <td>Wheat</td>\n",
       "      <td>2018</td>\n",
       "      <td>t</td>\n",
       "      <td>485480</td>\n",
       "      <td>Official figure</td>\n",
       "      <td>3190</td>\n",
       "      <td>529232.56</td>\n",
       "      <td>75%</td>\n",
       "    </tr>\n",
       "    <tr>\n",
       "      <th>150484</th>\n",
       "      <td>Crops and livestock products</td>\n",
       "      <td>Ireland</td>\n",
       "      <td>Production</td>\n",
       "      <td>Wheat</td>\n",
       "      <td>2019</td>\n",
       "      <td>t</td>\n",
       "      <td>595360</td>\n",
       "      <td>Official figure</td>\n",
       "      <td>3190</td>\n",
       "      <td>529232.56</td>\n",
       "      <td>75%</td>\n",
       "    </tr>\n",
       "    <tr>\n",
       "      <th>150485</th>\n",
       "      <td>Crops and livestock products</td>\n",
       "      <td>Ireland</td>\n",
       "      <td>Production</td>\n",
       "      <td>Wheat</td>\n",
       "      <td>2020</td>\n",
       "      <td>t</td>\n",
       "      <td>364920</td>\n",
       "      <td>Official figure</td>\n",
       "      <td>3190</td>\n",
       "      <td>529232.56</td>\n",
       "      <td>75%</td>\n",
       "    </tr>\n",
       "    <tr>\n",
       "      <th>150486</th>\n",
       "      <td>Crops and livestock products</td>\n",
       "      <td>Ireland</td>\n",
       "      <td>Production</td>\n",
       "      <td>Wheat</td>\n",
       "      <td>2021</td>\n",
       "      <td>t</td>\n",
       "      <td>628080</td>\n",
       "      <td>Official figure</td>\n",
       "      <td>3190</td>\n",
       "      <td>529232.56</td>\n",
       "      <td>75%</td>\n",
       "    </tr>\n",
       "    <tr>\n",
       "      <th>150487</th>\n",
       "      <td>Crops and livestock products</td>\n",
       "      <td>Ireland</td>\n",
       "      <td>Production</td>\n",
       "      <td>Wheat</td>\n",
       "      <td>2022</td>\n",
       "      <td>t</td>\n",
       "      <td>701240</td>\n",
       "      <td>Official figure</td>\n",
       "      <td>3190</td>\n",
       "      <td>529232.56</td>\n",
       "      <td>75%</td>\n",
       "    </tr>\n",
       "  </tbody>\n",
       "</table>\n",
       "</div>"
      ],
      "text/plain": [
       "                              domain     area     element   item  year unit  \\\n",
       "150483  Crops and livestock products  Ireland  Production  Wheat  2018    t   \n",
       "150484  Crops and livestock products  Ireland  Production  Wheat  2019    t   \n",
       "150485  Crops and livestock products  Ireland  Production  Wheat  2020    t   \n",
       "150486  Crops and livestock products  Ireland  Production  Wheat  2021    t   \n",
       "150487  Crops and livestock products  Ireland  Production  Wheat  2022    t   \n",
       "\n",
       "         value flag_description  index  all_time_mean quantile  \n",
       "150483  485480  Official figure   3190      529232.56      75%  \n",
       "150484  595360  Official figure   3190      529232.56      75%  \n",
       "150485  364920  Official figure   3190      529232.56      75%  \n",
       "150486  628080  Official figure   3190      529232.56      75%  \n",
       "150487  701240  Official figure   3190      529232.56      75%  "
      ]
     },
     "execution_count": 305,
     "metadata": {},
     "output_type": "execute_result"
    }
   ],
   "source": [
    "df.tail()"
   ]
  },
  {
   "cell_type": "code",
   "execution_count": 306,
   "id": "9d168277",
   "metadata": {},
   "outputs": [
    {
     "data": {
      "text/html": [
       "<div>\n",
       "<style scoped>\n",
       "    .dataframe tbody tr th:only-of-type {\n",
       "        vertical-align: middle;\n",
       "    }\n",
       "\n",
       "    .dataframe tbody tr th {\n",
       "        vertical-align: top;\n",
       "    }\n",
       "\n",
       "    .dataframe thead th {\n",
       "        text-align: right;\n",
       "    }\n",
       "</style>\n",
       "<table border=\"1\" class=\"dataframe\">\n",
       "  <thead>\n",
       "    <tr style=\"text-align: right;\">\n",
       "      <th></th>\n",
       "      <th>year</th>\n",
       "      <th>value</th>\n",
       "      <th>index</th>\n",
       "      <th>all_time_mean</th>\n",
       "    </tr>\n",
       "  </thead>\n",
       "  <tbody>\n",
       "    <tr>\n",
       "      <th>count</th>\n",
       "      <td>150488.000000</td>\n",
       "      <td>1.504880e+05</td>\n",
       "      <td>150488.000000</td>\n",
       "      <td>1.504880e+05</td>\n",
       "    </tr>\n",
       "    <tr>\n",
       "      <th>mean</th>\n",
       "      <td>1992.547280</td>\n",
       "      <td>2.668585e+05</td>\n",
       "      <td>1627.856925</td>\n",
       "      <td>2.668585e+05</td>\n",
       "    </tr>\n",
       "    <tr>\n",
       "      <th>std</th>\n",
       "      <td>17.887666</td>\n",
       "      <td>1.399605e+06</td>\n",
       "      <td>934.109227</td>\n",
       "      <td>1.331747e+06</td>\n",
       "    </tr>\n",
       "    <tr>\n",
       "      <th>min</th>\n",
       "      <td>1961.000000</td>\n",
       "      <td>0.000000e+00</td>\n",
       "      <td>0.000000</td>\n",
       "      <td>0.000000e+00</td>\n",
       "    </tr>\n",
       "    <tr>\n",
       "      <th>25%</th>\n",
       "      <td>1977.000000</td>\n",
       "      <td>1.200000e+03</td>\n",
       "      <td>801.000000</td>\n",
       "      <td>2.564970e+03</td>\n",
       "    </tr>\n",
       "    <tr>\n",
       "      <th>50%</th>\n",
       "      <td>1993.000000</td>\n",
       "      <td>1.820000e+04</td>\n",
       "      <td>1610.000000</td>\n",
       "      <td>2.165350e+04</td>\n",
       "    </tr>\n",
       "    <tr>\n",
       "      <th>75%</th>\n",
       "      <td>2008.000000</td>\n",
       "      <td>1.084592e+05</td>\n",
       "      <td>2451.000000</td>\n",
       "      <td>1.167861e+05</td>\n",
       "    </tr>\n",
       "    <tr>\n",
       "      <th>max</th>\n",
       "      <td>2022.000000</td>\n",
       "      <td>4.630014e+07</td>\n",
       "      <td>3221.000000</td>\n",
       "      <td>2.804839e+07</td>\n",
       "    </tr>\n",
       "  </tbody>\n",
       "</table>\n",
       "</div>"
      ],
      "text/plain": [
       "                year         value          index  all_time_mean\n",
       "count  150488.000000  1.504880e+05  150488.000000   1.504880e+05\n",
       "mean     1992.547280  2.668585e+05    1627.856925   2.668585e+05\n",
       "std        17.887666  1.399605e+06     934.109227   1.331747e+06\n",
       "min      1961.000000  0.000000e+00       0.000000   0.000000e+00\n",
       "25%      1977.000000  1.200000e+03     801.000000   2.564970e+03\n",
       "50%      1993.000000  1.820000e+04    1610.000000   2.165350e+04\n",
       "75%      2008.000000  1.084592e+05    2451.000000   1.167861e+05\n",
       "max      2022.000000  4.630014e+07    3221.000000   2.804839e+07"
      ]
     },
     "execution_count": 306,
     "metadata": {},
     "output_type": "execute_result"
    }
   ],
   "source": [
    "df.describe()"
   ]
  },
  {
   "cell_type": "code",
   "execution_count": 308,
   "id": "18dac97c",
   "metadata": {},
   "outputs": [
    {
     "data": {
      "text/html": [
       "<div>\n",
       "<style scoped>\n",
       "    .dataframe tbody tr th:only-of-type {\n",
       "        vertical-align: middle;\n",
       "    }\n",
       "\n",
       "    .dataframe tbody tr th {\n",
       "        vertical-align: top;\n",
       "    }\n",
       "\n",
       "    .dataframe thead th {\n",
       "        text-align: right;\n",
       "    }\n",
       "</style>\n",
       "<table border=\"1\" class=\"dataframe\">\n",
       "  <thead>\n",
       "    <tr style=\"text-align: right;\">\n",
       "      <th></th>\n",
       "      <th>domain</th>\n",
       "      <th>area</th>\n",
       "      <th>element</th>\n",
       "      <th>item</th>\n",
       "      <th>year</th>\n",
       "      <th>unit</th>\n",
       "      <th>value</th>\n",
       "      <th>flag_description</th>\n",
       "      <th>index</th>\n",
       "      <th>all_time_mean</th>\n",
       "      <th>quantile</th>\n",
       "    </tr>\n",
       "  </thead>\n",
       "  <tbody>\n",
       "    <tr>\n",
       "      <th>310</th>\n",
       "      <td>Crops and livestock products</td>\n",
       "      <td>Portugal</td>\n",
       "      <td>Production</td>\n",
       "      <td>Apples</td>\n",
       "      <td>1961</td>\n",
       "      <td>t</td>\n",
       "      <td>70000</td>\n",
       "      <td>Official figure</td>\n",
       "      <td>62</td>\n",
       "      <td>199788.9</td>\n",
       "      <td>75%</td>\n",
       "    </tr>\n",
       "    <tr>\n",
       "      <th>311</th>\n",
       "      <td>Crops and livestock products</td>\n",
       "      <td>Portugal</td>\n",
       "      <td>Production</td>\n",
       "      <td>Apples</td>\n",
       "      <td>1962</td>\n",
       "      <td>t</td>\n",
       "      <td>58000</td>\n",
       "      <td>Figure from international organizations</td>\n",
       "      <td>62</td>\n",
       "      <td>199788.9</td>\n",
       "      <td>75%</td>\n",
       "    </tr>\n",
       "    <tr>\n",
       "      <th>312</th>\n",
       "      <td>Crops and livestock products</td>\n",
       "      <td>Portugal</td>\n",
       "      <td>Production</td>\n",
       "      <td>Apples</td>\n",
       "      <td>1963</td>\n",
       "      <td>t</td>\n",
       "      <td>92000</td>\n",
       "      <td>Official figure</td>\n",
       "      <td>62</td>\n",
       "      <td>199788.9</td>\n",
       "      <td>75%</td>\n",
       "    </tr>\n",
       "    <tr>\n",
       "      <th>313</th>\n",
       "      <td>Crops and livestock products</td>\n",
       "      <td>Portugal</td>\n",
       "      <td>Production</td>\n",
       "      <td>Apples</td>\n",
       "      <td>1964</td>\n",
       "      <td>t</td>\n",
       "      <td>85000</td>\n",
       "      <td>Figure from international organizations</td>\n",
       "      <td>62</td>\n",
       "      <td>199788.9</td>\n",
       "      <td>75%</td>\n",
       "    </tr>\n",
       "    <tr>\n",
       "      <th>314</th>\n",
       "      <td>Crops and livestock products</td>\n",
       "      <td>Portugal</td>\n",
       "      <td>Production</td>\n",
       "      <td>Apples</td>\n",
       "      <td>1965</td>\n",
       "      <td>t</td>\n",
       "      <td>96000</td>\n",
       "      <td>Figure from international organizations</td>\n",
       "      <td>62</td>\n",
       "      <td>199788.9</td>\n",
       "      <td>75%</td>\n",
       "    </tr>\n",
       "  </tbody>\n",
       "</table>\n",
       "</div>"
      ],
      "text/plain": [
       "                           domain      area     element    item  year unit  \\\n",
       "310  Crops and livestock products  Portugal  Production  Apples  1961    t   \n",
       "311  Crops and livestock products  Portugal  Production  Apples  1962    t   \n",
       "312  Crops and livestock products  Portugal  Production  Apples  1963    t   \n",
       "313  Crops and livestock products  Portugal  Production  Apples  1964    t   \n",
       "314  Crops and livestock products  Portugal  Production  Apples  1965    t   \n",
       "\n",
       "     value                         flag_description  index  all_time_mean  \\\n",
       "310  70000                          Official figure     62       199788.9   \n",
       "311  58000  Figure from international organizations     62       199788.9   \n",
       "312  92000                          Official figure     62       199788.9   \n",
       "313  85000  Figure from international organizations     62       199788.9   \n",
       "314  96000  Figure from international organizations     62       199788.9   \n",
       "\n",
       "    quantile  \n",
       "310      75%  \n",
       "311      75%  \n",
       "312      75%  \n",
       "313      75%  \n",
       "314      75%  "
      ]
     },
     "execution_count": 308,
     "metadata": {},
     "output_type": "execute_result"
    }
   ],
   "source": [
    "d = df[(df.value > 0.0) & (df.unit == 't') & (df['quantile'] == '75%')]\n",
    "d.head()"
   ]
  },
  {
   "cell_type": "code",
   "execution_count": 310,
   "id": "382459b7",
   "metadata": {},
   "outputs": [
    {
     "data": {
      "text/plain": [
       "<Figure size 960x480 with 0 Axes>"
      ]
     },
     "execution_count": 310,
     "metadata": {},
     "output_type": "execute_result"
    },
    {
     "data": {
      "image/png": "[encoded data removed]",
      "text/plain": [
       "<Figure size 960x480 with 1 Axes>"
      ]
     },
     "metadata": {},
     "output_type": "display_data"
    }
   ],
   "source": [
    "figure(figsize=(12, 6), dpi=80)\n",
    "_ = sns.lineplot(data=df[(df.value > 0.0) & (df.area == 'Ireland') & (df.unit == 't') & (df['quantile'] == '75%')], x='year', y='value', hue='item')\n",
    "_ = plt.show()"
   ]
  },
  {
   "cell_type": "markdown",
   "id": "59ef7a9f",
   "metadata": {},
   "source": [
    "From: https://plotly.com/python/line-charts/"
   ]
  },
  {
   "cell_type": "code",
   "execution_count": 280,
   "id": "f0a29322",
   "metadata": {},
   "outputs": [],
   "source": [
    "from dash import Dash, dcc, html, Input, Output\n",
    "import plotly.express as px"
   ]
  },
  {
   "cell_type": "code",
   "execution_count": 312,
   "id": "f0eb9246",
   "metadata": {},
   "outputs": [
    {
     "data": {
      "text/html": [
       "\n",
       "        <iframe\n",
       "            width=\"100%\"\n",
       "            height=\"650\"\n",
       "            src=\"http://127.0.0.1:8050/\"\n",
       "            frameborder=\"0\"\n",
       "            allowfullscreen\n",
       "            \n",
       "        ></iframe>\n",
       "        "
      ],
      "text/plain": [
       "<IPython.lib.display.IFrame at 0x13601d390>"
      ]
     },
     "metadata": {},
     "output_type": "display_data"
    }
   ],
   "source": [
    "app = Dash(__name__)\n",
    "\n",
    "app.layout = html.Div([\n",
    "    html.Div([\n",
    "        html.Div([\n",
    "            dcc.Dropdown(\n",
    "                id=\"area\",\n",
    "                options=df.area.unique(),\n",
    "                value=\"Ireland\",\n",
    "            ),\n",
    "            dcc.RadioItems(\n",
    "                [\"25%\", \"50%\", \"75%\"],\n",
    "                \"75%\",\n",
    "                id=\"quantile\",\n",
    "                inline=True,\n",
    "            )\n",
    "        ], style={'width': '40%', 'display': 'inline-block'}),\n",
    "    ]),\n",
    "\n",
    "    dcc.Graph(id=\"graph\"),\n",
    "])\n",
    "\n",
    "\n",
    "@app.callback(\n",
    "    Output(\"graph\", \"figure\"), \n",
    "    Input(\"quantile\", \"value\"),\n",
    "    Input(\"area\", \"value\"))\n",
    "def update_line_chart(quantile, area):\n",
    "    data=df[(df.value > 0.0) & (df.unit == 't') & (df.area == area) & (df['quantile'] == quantile)]\n",
    "    fig = px.line(data, \n",
    "        x=\"year\", y=\"value\", color='item')\n",
    "    return fig\n",
    "\n",
    "\n",
    "app.run_server(debug=True)"
   ]
  },
  {
   "cell_type": "code",
   "execution_count": 295,
   "id": "2b34ac1e",
   "metadata": {},
   "outputs": [
    {
     "data": {
      "text/html": [
       "\n",
       "        <iframe\n",
       "            width=\"100%\"\n",
       "            height=\"650\"\n",
       "            src=\"http://127.0.0.1:8051/\"\n",
       "            frameborder=\"0\"\n",
       "            allowfullscreen\n",
       "            \n",
       "        ></iframe>\n",
       "        "
      ],
      "text/plain": [
       "<IPython.lib.display.IFrame at 0x1322060d0>"
      ]
     },
     "metadata": {},
     "output_type": "display_data"
    }
   ],
   "source": [
    "app_comp = Dash(__name__)\n",
    "\n",
    "app_comp.layout = html.Div([\n",
    "        html.Div([\n",
    "            dcc.Dropdown(\n",
    "                id=\"item\",\n",
    "                options=df.item.unique(),\n",
    "                value=\"Apples\",\n",
    "            ),\n",
    "            dcc.Dropdown(\n",
    "                id=\"metric\",\n",
    "                options=df.element.unique(),\n",
    "                value=\"Production\",\n",
    "            ),\n",
    "        ], style={'width': '48%', 'display': 'inline-block'}),\n",
    "        html.Div([\n",
    "            dcc.Dropdown(\n",
    "                id=\"area1\",\n",
    "                options=df.area.unique(),\n",
    "                value=\"Belgium\",\n",
    "            ),\n",
    "            dcc.Dropdown(\n",
    "                id=\"area2\",\n",
    "                options=df.area.unique(),\n",
    "                value=\"Ireland\",\n",
    "            ),\n",
    "        ], style={'width': '48%', 'float': 'right', 'display': 'inline-block'}),\n",
    "\n",
    "    dcc.Graph(id=\"graph\"),\n",
    "])\n",
    "\n",
    "\n",
    "@app_comp.callback(\n",
    "    Output(\"graph\", \"figure\"), \n",
    "    Input(\"item\", \"value\"),\n",
    "    Input(\"metric\", \"value\"),\n",
    "    Input(\"area1\", \"value\"),\n",
    "    Input(\"area2\", \"value\"))\n",
    "def update_line_chart(item, metric, area1, area2):\n",
    "    data=df[(df.value > 0.0) & (df.item == item) & (df.element == metric) & ((df.area == area1) | (df.area == area2))]\n",
    "    fig = px.line(data, \n",
    "        x=\"year\", y=\"value\", color='area')\n",
    "    return fig\n",
    "\n",
    "\n",
    "app_comp.run_server(debug=True, port=8051)"
   ]
  },
  {
   "cell_type": "code",
   "execution_count": 5,
   "id": "d7540fd3",
   "metadata": {},
   "outputs": [],
   "source": [
    "# https://stackoverflow.com/questions/18171739/unicodedecodeerror-when-reading-csv-file-in-pandas\n",
    "df_2 = pd.read_csv('/Users/olenapleshan/data_analytics/ca2-sem1/FoodBalanceSheets_E_All_Data/FoodBalanceSheets_E_All_Data_NOFLAG.csv', engine='python', encoding = \"ISO-8859-1\")"
   ]
  },
  {
   "cell_type": "markdown",
   "id": "1966e6b9-bb39-4161-850e-4bf210c7fd74",
   "metadata": {},
   "source": [
    "# Statistics"
   ]
  },
  {
   "cell_type": "markdown",
   "id": "f312f970-f27a-4931-9d7a-8af1bcee377c",
   "metadata": {},
   "source": [
    "1. Compare to New Zeland https://www.quora.com/What-are-some-countries-that-are-like-Ireland\n",
    "2. Use 5 tests"
   ]
  },
  {
   "cell_type": "code",
   "execution_count": null,
   "id": "f3e5fbe5-491a-4cf5-a14d-85be6d2ba4c4",
   "metadata": {},
   "outputs": [],
   "source": []
  },
  {
   "cell_type": "code",
   "execution_count": 15,
   "id": "ba7ac9fc-59a4-45dd-8036-892d76d5ee37",
   "metadata": {},
   "outputs": [
    {
     "name": "stdout",
     "output_type": "stream",
     "text": [
      "Collecting TextBlob\n",
      "  Obtaining dependency information for TextBlob from https://files.pythonhosted.org/packages/02/07/5fd2945356dd839974d3a25de8a142dc37293c21315729a41e775b5f3569/textblob-0.18.0.post0-py3-none-any.whl.metadata\n",
      "  Downloading textblob-0.18.0.post0-py3-none-any.whl.metadata (4.5 kB)\n",
      "Requirement already satisfied: nltk>=3.8 in /usr/local/lib/python3.11/site-packages (from TextBlob) (3.8.1)\n",
      "Requirement already satisfied: click in /usr/local/lib/python3.11/site-packages (from nltk>=3.8->TextBlob) (8.1.7)\n",
      "Requirement already satisfied: joblib in /usr/local/lib/python3.11/site-packages (from nltk>=3.8->TextBlob) (1.3.2)\n",
      "Requirement already satisfied: regex>=2021.8.3 in /usr/local/lib/python3.11/site-packages (from nltk>=3.8->TextBlob) (2023.12.25)\n",
      "Requirement already satisfied: tqdm in /usr/local/lib/python3.11/site-packages (from nltk>=3.8->TextBlob) (4.66.2)\n",
      "Downloading textblob-0.18.0.post0-py3-none-any.whl (626 kB)\n",
      "\u001b[2K   \u001b[38;2;114;156;31m━━━━━━━━━━━━━━━━━━━━━━━━━━━━━━━━━━━━━━━━\u001b[0m \u001b[32m626.3/626.3 kB\u001b[0m \u001b[31m3.0 MB/s\u001b[0m eta \u001b[36m0:00:00\u001b[0mm eta \u001b[36m0:00:01\u001b[0m[36m0:00:01\u001b[0m\n",
      "\u001b[?25hInstalling collected packages: TextBlob\n",
      "Successfully installed TextBlob-0.18.0.post0\n",
      "\n",
      "\u001b[1m[\u001b[0m\u001b[34;49mnotice\u001b[0m\u001b[1;39;49m]\u001b[0m\u001b[39;49m A new release of pip is available: \u001b[0m\u001b[31;49m23.2.1\u001b[0m\u001b[39;49m -> \u001b[0m\u001b[32;49m24.0\u001b[0m\n",
      "\u001b[1m[\u001b[0m\u001b[34;49mnotice\u001b[0m\u001b[1;39;49m]\u001b[0m\u001b[39;49m To update, run: \u001b[0m\u001b[32;49mpython3.11 -m pip install --upgrade pip\u001b[0m\n",
      "Note: you may need to restart the kernel to use updated packages.\n"
     ]
    }
   ],
   "source": []
  },
  {
   "cell_type": "markdown",
   "id": "e533d2c4-b1c8-43cd-becc-e6fc746e1e1a",
   "metadata": {},
   "source": [
    "## Time Series"
   ]
  },
  {
   "cell_type": "code",
   "execution_count": null,
   "id": "cbffa088-d723-440d-b1de-5a622c011913",
   "metadata": {},
   "outputs": [],
   "source": []
  },
  {
   "cell_type": "markdown",
   "id": "90ff688c-f55b-493a-a18d-d13cddb2d673",
   "metadata": {},
   "source": [
    "## Clustering"
   ]
  },
  {
   "cell_type": "code",
   "execution_count": null,
   "id": "40d6b595-745e-4286-9d0d-e8ce360ad052",
   "metadata": {},
   "outputs": [],
   "source": []
  },
  {
   "cell_type": "markdown",
   "id": "092cb0ed-db7a-4950-b41f-efb81faa2073",
   "metadata": {},
   "source": [
    "## Sentiment Analysis"
   ]
  },
  {
   "cell_type": "code",
   "execution_count": null,
   "id": "af3aac22-5b14-4030-b62c-c4d34d9e414d",
   "metadata": {},
   "outputs": [],
   "source": [
    "https://www.kaggle.com/code/michawilkosz/twitter-sentiment-analysis-using-tensorflow"
   ]
  }
 ],
 "metadata": {
  "kernelspec": {
   "display_name": "Python 3 (ipykernel)",
   "language": "python",
   "name": "python3"
  },
  "language_info": {
   "codemirror_mode": {
    "name": "ipython",
    "version": 3
   },
   "file_extension": ".py",
   "mimetype": "text/x-python",
   "name": "python",
   "nbconvert_exporter": "python",
   "pygments_lexer": "ipython3",
   "version": "3.11.5"
  }
 },
 "nbformat": 4,
 "nbformat_minor": 5
}
