{
 "cells": [
  {
   "cell_type": "code",
   "execution_count": 1,
   "id": "75937b4e-3731-42ff-9f55-17ea72d070e6",
   "metadata": {},
   "outputs": [],
   "source": [
    "import requests\n",
    "import csv\n",
    "import pandas as pd\n",
    "import matplotlib.pyplot as plt\n",
    "import seaborn as sns\n",
    "import numpy as np\n",
    "import json\n",
    "from matplotlib.pyplot import figure\n",
    "import plotly.express as px\n",
    "from mplcursors import cursor  # separate package must be installed\n",
    "from os import listdir\n",
    "\n",
    "import utils\n"
   ]
  },
  {
   "cell_type": "code",
   "execution_count": 2,
   "id": "8312b1dd",
   "metadata": {},
   "outputs": [],
   "source": [
    "from IPython.core.interactiveshell import InteractiveShell\n",
    "InteractiveShell.ast_node_interactivity = \"all\""
   ]
  },
  {
   "cell_type": "code",
   "execution_count": 31,
   "id": "26aaecf1-49db-4fc0-993a-8d99aebe44f8",
   "metadata": {},
   "outputs": [
    {
     "data": {
      "text/plain": [
       "27"
      ]
     },
     "execution_count": 31,
     "metadata": {},
     "output_type": "execute_result"
    },
    {
     "data": {
      "text/plain": [
       "22"
      ]
     },
     "execution_count": 31,
     "metadata": {},
     "output_type": "execute_result"
    },
    {
     "data": {
      "text/plain": [
       "5"
      ]
     },
     "execution_count": 31,
     "metadata": {},
     "output_type": "execute_result"
    },
    {
     "data": {
      "text/plain": [
       "{'Hungary', 'Poland', 'Romania', 'Slovakia', 'Slovenia'}"
      ]
     },
     "execution_count": 31,
     "metadata": {},
     "output_type": "execute_result"
    }
   ],
   "source": [
    "# https://www.kaggle.com/code/sahilgarg108/hyperparameter-tuning-92-f1-auc-roc\n",
    "# https://www.fao.org/faostat/en/#data/QCL\n",
    "# FAOSTAT_data_en_4-21-2024.csv\n",
    "# https://www.kirenz.com/blog/posts/2022-06-17-sentiment-analysis-with-tensorflow-and-keras/\n",
    "\n",
    "# FAO\n",
    "# https://www.fao.org/faostat/en/#data/RFB -- > Fertilizer use\n",
    "# https://www.fao.org/faostat/en/#data/QCL --> Crops and livestock products\n",
    "\n",
    "# World Bank Indicators \n",
    "# https://data.worldbank.org/indicator\n",
    "# https://databank.worldbank.org/reports.aspx?source=2&series=NV.AGR.TOTL.ZS&country=\n",
    "\n",
    "# https://www.ers.usda.gov/webdocs/outlooks/40408/30645_wrs0404e_002.pdf\n"
   ]
  },
  {
   "cell_type": "code",
   "execution_count": null,
   "id": "54faf960",
   "metadata": {},
   "outputs": [],
   "source": [
    "# Time series analysis\n",
    "# https://www.kaggle.com/code/prashant111/complete-guide-on-time-series-analysis-in-python\n"
   ]
  },
  {
   "cell_type": "code",
   "execution_count": 32,
   "id": "5db1dc47",
   "metadata": {},
   "outputs": [],
   "source": [
    "# Returns a cleaned up dataframe with columns dropped and column names converted into 'variable name' like format\n",
    "def do_basic_cleanup(df, drop_cols):\n",
    "    df = df.rename(columns={c: c.lower().replace(\" \", \"_\").replace(\"(\", \"\").replace(\")\", \"\") for c in df.columns})\n",
    "    try:\n",
    "      df = df.drop(columns=drop_cols)\n",
    "    except Exception as e:\n",
    "      print(e)\n",
    "    return df"
   ]
  },
  {
   "cell_type": "code",
   "execution_count": 35,
   "id": "542752f4",
   "metadata": {},
   "outputs": [
    {
     "name": "stdout",
     "output_type": "stream",
     "text": [
      "FAOSTAT_data_en_4-28-2024_Port_Swe.csv (41402, 8)\n",
      "FAOSTAT_data_en_5-4-2024_smaller_countries.csv (63759, 8)\n",
      "FAOSTAT_data_en_4-28-2024_Ger_Neth.csv (55646, 8)\n",
      "FAOSTAT_data_en_4-28-2024_Aust_Fin.csv (46988, 8)\n",
      "FAOSTAT_data_en_5-4-2024_eastern_eur.csv (52769, 8)\n",
      "FAOSTAT_data_en_4-28-2024_IRL.csv (6452, 8)\n",
      "Number of unique countries: 27\n"
     ]
    }
   ],
   "source": [
    "df = pd.DataFrame()\n",
    "\n",
    "for file in listdir('data'):\n",
    "  df_part = pd.read_csv(\"data/\" + file, on_bad_lines='warn')\n",
    "  df_part = do_basic_cleanup(df_part, ['domain_code', 'area_code_m49', 'element_code', 'item_code_cpc', 'year_code', 'note', 'flag'])\n",
    "  print(file, df_part.shape)\n",
    "  df = pd.concat([df, df_part], ignore_index=True)\n",
    "\n",
    "print('Number of unique countries:', len(df.area.unique()))"
   ]
  },
  {
   "cell_type": "code",
   "execution_count": 36,
   "id": "fa7d5be7",
   "metadata": {},
   "outputs": [
    {
     "data": {
      "text/plain": [
       "(267016, 8)"
      ]
     },
     "execution_count": 36,
     "metadata": {},
     "output_type": "execute_result"
    },
    {
     "data": {
      "text/html": [
       "<div>\n",
       "<style scoped>\n",
       "    .dataframe tbody tr th:only-of-type {\n",
       "        vertical-align: middle;\n",
       "    }\n",
       "\n",
       "    .dataframe tbody tr th {\n",
       "        vertical-align: top;\n",
       "    }\n",
       "\n",
       "    .dataframe thead th {\n",
       "        text-align: right;\n",
       "    }\n",
       "</style>\n",
       "<table border=\"1\" class=\"dataframe\">\n",
       "  <thead>\n",
       "    <tr style=\"text-align: right;\">\n",
       "      <th></th>\n",
       "      <th>domain</th>\n",
       "      <th>area</th>\n",
       "      <th>element</th>\n",
       "      <th>item</th>\n",
       "      <th>year</th>\n",
       "      <th>unit</th>\n",
       "      <th>value</th>\n",
       "      <th>flag_description</th>\n",
       "    </tr>\n",
       "  </thead>\n",
       "  <tbody>\n",
       "    <tr>\n",
       "      <th>0</th>\n",
       "      <td>Crops and livestock products</td>\n",
       "      <td>Portugal</td>\n",
       "      <td>Area harvested</td>\n",
       "      <td>Almonds, in shell</td>\n",
       "      <td>1961</td>\n",
       "      <td>ha</td>\n",
       "      <td>37000</td>\n",
       "      <td>Estimated value</td>\n",
       "    </tr>\n",
       "    <tr>\n",
       "      <th>1</th>\n",
       "      <td>Crops and livestock products</td>\n",
       "      <td>Portugal</td>\n",
       "      <td>Yield</td>\n",
       "      <td>Almonds, in shell</td>\n",
       "      <td>1961</td>\n",
       "      <td>100 g/ha</td>\n",
       "      <td>4324</td>\n",
       "      <td>Estimated value</td>\n",
       "    </tr>\n",
       "    <tr>\n",
       "      <th>2</th>\n",
       "      <td>Crops and livestock products</td>\n",
       "      <td>Portugal</td>\n",
       "      <td>Production</td>\n",
       "      <td>Almonds, in shell</td>\n",
       "      <td>1961</td>\n",
       "      <td>t</td>\n",
       "      <td>16000</td>\n",
       "      <td>Official figure</td>\n",
       "    </tr>\n",
       "    <tr>\n",
       "      <th>3</th>\n",
       "      <td>Crops and livestock products</td>\n",
       "      <td>Portugal</td>\n",
       "      <td>Area harvested</td>\n",
       "      <td>Almonds, in shell</td>\n",
       "      <td>1962</td>\n",
       "      <td>ha</td>\n",
       "      <td>38000</td>\n",
       "      <td>Estimated value</td>\n",
       "    </tr>\n",
       "    <tr>\n",
       "      <th>4</th>\n",
       "      <td>Crops and livestock products</td>\n",
       "      <td>Portugal</td>\n",
       "      <td>Yield</td>\n",
       "      <td>Almonds, in shell</td>\n",
       "      <td>1962</td>\n",
       "      <td>100 g/ha</td>\n",
       "      <td>4737</td>\n",
       "      <td>Estimated value</td>\n",
       "    </tr>\n",
       "  </tbody>\n",
       "</table>\n",
       "</div>"
      ],
      "text/plain": [
       "                         domain      area         element               item  \\\n",
       "0  Crops and livestock products  Portugal  Area harvested  Almonds, in shell   \n",
       "1  Crops and livestock products  Portugal           Yield  Almonds, in shell   \n",
       "2  Crops and livestock products  Portugal      Production  Almonds, in shell   \n",
       "3  Crops and livestock products  Portugal  Area harvested  Almonds, in shell   \n",
       "4  Crops and livestock products  Portugal           Yield  Almonds, in shell   \n",
       "\n",
       "   year      unit  value flag_description  \n",
       "0  1961        ha  37000  Estimated value  \n",
       "1  1961  100 g/ha   4324  Estimated value  \n",
       "2  1961         t  16000  Official figure  \n",
       "3  1962        ha  38000  Estimated value  \n",
       "4  1962  100 g/ha   4737  Estimated value  "
      ]
     },
     "execution_count": 36,
     "metadata": {},
     "output_type": "execute_result"
    }
   ],
   "source": [
    "df.value = df.value.astype('int64')\n",
    "df.shape\n",
    "df.head()"
   ]
  },
  {
   "cell_type": "code",
   "execution_count": 7,
   "id": "971691e4",
   "metadata": {},
   "outputs": [
    {
     "data": {
      "text/plain": [
       "unit\n",
       "t           61419\n",
       "ha          49394\n",
       "100 g/ha    39675\n",
       "Name: count, dtype: int64"
      ]
     },
     "execution_count": 7,
     "metadata": {},
     "output_type": "execute_result"
    }
   ],
   "source": [
    "df.unit.value_counts()"
   ]
  },
  {
   "cell_type": "code",
   "execution_count": 37,
   "id": "a791e472",
   "metadata": {},
   "outputs": [
    {
     "data": {
      "text/plain": [
       "(6697, 5)"
      ]
     },
     "execution_count": 37,
     "metadata": {},
     "output_type": "execute_result"
    },
    {
     "data": {
      "text/html": [
       "<div>\n",
       "<style scoped>\n",
       "    .dataframe tbody tr th:only-of-type {\n",
       "        vertical-align: middle;\n",
       "    }\n",
       "\n",
       "    .dataframe tbody tr th {\n",
       "        vertical-align: top;\n",
       "    }\n",
       "\n",
       "    .dataframe thead th {\n",
       "        text-align: right;\n",
       "    }\n",
       "</style>\n",
       "<table border=\"1\" class=\"dataframe\">\n",
       "  <thead>\n",
       "    <tr style=\"text-align: right;\">\n",
       "      <th></th>\n",
       "      <th>index</th>\n",
       "      <th>item</th>\n",
       "      <th>element</th>\n",
       "      <th>area</th>\n",
       "      <th>all_time_mean</th>\n",
       "    </tr>\n",
       "  </thead>\n",
       "  <tbody>\n",
       "    <tr>\n",
       "      <th>0</th>\n",
       "      <td>0</td>\n",
       "      <td>Almonds, in shell</td>\n",
       "      <td>Area harvested</td>\n",
       "      <td>Belgium</td>\n",
       "      <td>0.00</td>\n",
       "    </tr>\n",
       "    <tr>\n",
       "      <th>1</th>\n",
       "      <td>1</td>\n",
       "      <td>Almonds, in shell</td>\n",
       "      <td>Area harvested</td>\n",
       "      <td>Bulgaria</td>\n",
       "      <td>894.61</td>\n",
       "    </tr>\n",
       "    <tr>\n",
       "      <th>2</th>\n",
       "      <td>2</td>\n",
       "      <td>Almonds, in shell</td>\n",
       "      <td>Area harvested</td>\n",
       "      <td>Croatia</td>\n",
       "      <td>574.45</td>\n",
       "    </tr>\n",
       "    <tr>\n",
       "      <th>3</th>\n",
       "      <td>3</td>\n",
       "      <td>Almonds, in shell</td>\n",
       "      <td>Area harvested</td>\n",
       "      <td>Cyprus</td>\n",
       "      <td>4970.48</td>\n",
       "    </tr>\n",
       "    <tr>\n",
       "      <th>4</th>\n",
       "      <td>4</td>\n",
       "      <td>Almonds, in shell</td>\n",
       "      <td>Area harvested</td>\n",
       "      <td>Estonia</td>\n",
       "      <td>0.00</td>\n",
       "    </tr>\n",
       "  </tbody>\n",
       "</table>\n",
       "</div>"
      ],
      "text/plain": [
       "   index               item         element      area  all_time_mean\n",
       "0      0  Almonds, in shell  Area harvested   Belgium           0.00\n",
       "1      1  Almonds, in shell  Area harvested  Bulgaria         894.61\n",
       "2      2  Almonds, in shell  Area harvested   Croatia         574.45\n",
       "3      3  Almonds, in shell  Area harvested    Cyprus        4970.48\n",
       "4      4  Almonds, in shell  Area harvested   Estonia           0.00"
      ]
     },
     "execution_count": 37,
     "metadata": {},
     "output_type": "execute_result"
    }
   ],
   "source": [
    "def calc_means(df):\n",
    "  df = df[['item', 'element', 'area', 'value']]\n",
    "  return df.groupby(by=['item', 'element', 'area'], as_index=False).mean()\n",
    "\n",
    "means_df = calc_means(df).rename(columns={'value': 'all_time_mean'})\n",
    "means_df.all_time_mean = means_df.all_time_mean.apply(lambda x: round(x, 2))\n",
    "\n",
    "means_df = means_df.reset_index()\n",
    "means_df.shape\n",
    "means_df.head()"
   ]
  },
  {
   "cell_type": "code",
   "execution_count": 38,
   "id": "85d03213",
   "metadata": {},
   "outputs": [
    {
     "data": {
      "text/plain": [
       "(267016, 10)"
      ]
     },
     "execution_count": 38,
     "metadata": {},
     "output_type": "execute_result"
    }
   ],
   "source": [
    "df = df.merge(means_df, on=['item', 'element', 'area'])\n",
    "df.shape"
   ]
  },
  {
   "cell_type": "code",
   "execution_count": 56,
   "id": "0fb8feec",
   "metadata": {},
   "outputs": [
    {
     "data": {
      "text/plain": [
       "(6697, 4)"
      ]
     },
     "execution_count": 56,
     "metadata": {},
     "output_type": "execute_result"
    },
    {
     "data": {
      "text/html": [
       "<div>\n",
       "<style scoped>\n",
       "    .dataframe tbody tr th:only-of-type {\n",
       "        vertical-align: middle;\n",
       "    }\n",
       "\n",
       "    .dataframe tbody tr th {\n",
       "        vertical-align: top;\n",
       "    }\n",
       "\n",
       "    .dataframe thead th {\n",
       "        text-align: right;\n",
       "    }\n",
       "</style>\n",
       "<table border=\"1\" class=\"dataframe\">\n",
       "  <thead>\n",
       "    <tr style=\"text-align: right;\">\n",
       "      <th></th>\n",
       "      <th>item</th>\n",
       "      <th>element</th>\n",
       "      <th>area</th>\n",
       "      <th>percentile</th>\n",
       "    </tr>\n",
       "  </thead>\n",
       "  <tbody>\n",
       "    <tr>\n",
       "      <th>0</th>\n",
       "      <td>Almonds, in shell</td>\n",
       "      <td>Area harvested</td>\n",
       "      <td>Portugal</td>\n",
       "      <td>50-75%</td>\n",
       "    </tr>\n",
       "    <tr>\n",
       "      <th>1</th>\n",
       "      <td>Apples</td>\n",
       "      <td>Area harvested</td>\n",
       "      <td>Portugal</td>\n",
       "      <td>50-75%</td>\n",
       "    </tr>\n",
       "    <tr>\n",
       "      <th>2</th>\n",
       "      <td>Apricots</td>\n",
       "      <td>Area harvested</td>\n",
       "      <td>Portugal</td>\n",
       "      <td>25-50%</td>\n",
       "    </tr>\n",
       "    <tr>\n",
       "      <th>3</th>\n",
       "      <td>Artichokes</td>\n",
       "      <td>Area harvested</td>\n",
       "      <td>Portugal</td>\n",
       "      <td>0-25%</td>\n",
       "    </tr>\n",
       "    <tr>\n",
       "      <th>4</th>\n",
       "      <td>Asparagus</td>\n",
       "      <td>Area harvested</td>\n",
       "      <td>Portugal</td>\n",
       "      <td>0-25%</td>\n",
       "    </tr>\n",
       "  </tbody>\n",
       "</table>\n",
       "</div>"
      ],
      "text/plain": [
       "                item         element      area percentile\n",
       "0  Almonds, in shell  Area harvested  Portugal     50-75%\n",
       "1             Apples  Area harvested  Portugal     50-75%\n",
       "2           Apricots  Area harvested  Portugal     25-50%\n",
       "3         Artichokes  Area harvested  Portugal      0-25%\n",
       "4          Asparagus  Area harvested  Portugal      0-25%"
      ]
     },
     "execution_count": 56,
     "metadata": {},
     "output_type": "execute_result"
    }
   ],
   "source": [
    "percentiles = pd.DataFrame()\n",
    "\n",
    "PERCENTILE_LABELS = [\"0-25%\", \"25-50%\", \"50-75%\", \"75-100%\"]\n",
    "\n",
    "for el in df.element.unique().tolist():\n",
    "  for area in df.area.unique().tolist():\n",
    "    q = df[(df.element == el) & (df.area == area)][['item', 'element', 'area', 'all_time_mean']].drop_duplicates()\n",
    "    q['percentile'] = pd.qcut(df.value, np.linspace(0,1,5), labels=PERCENTILE_LABELS)\n",
    "    q = q.drop(columns=['all_time_mean'])\n",
    "    percentiles = pd.concat([percentiles, q], ignore_index=True)\n",
    "\n",
    "percentiles = percentiles.reset_index(drop=True)\n",
    "percentiles.shape\n",
    "percentiles.head()\n"
   ]
  },
  {
   "cell_type": "code",
   "execution_count": 40,
   "id": "27e84d7d",
   "metadata": {},
   "outputs": [
    {
     "data": {
      "text/plain": [
       "(267016, 11)"
      ]
     },
     "execution_count": 40,
     "metadata": {},
     "output_type": "execute_result"
    }
   ],
   "source": [
    "df = df.merge(percentiles, on=['item', 'element', 'area'])\n",
    "df.shape"
   ]
  },
  {
   "cell_type": "code",
   "execution_count": 41,
   "id": "1a48a376",
   "metadata": {},
   "outputs": [
    {
     "data": {
      "text/html": [
       "<div>\n",
       "<style scoped>\n",
       "    .dataframe tbody tr th:only-of-type {\n",
       "        vertical-align: middle;\n",
       "    }\n",
       "\n",
       "    .dataframe tbody tr th {\n",
       "        vertical-align: top;\n",
       "    }\n",
       "\n",
       "    .dataframe thead th {\n",
       "        text-align: right;\n",
       "    }\n",
       "</style>\n",
       "<table border=\"1\" class=\"dataframe\">\n",
       "  <thead>\n",
       "    <tr style=\"text-align: right;\">\n",
       "      <th></th>\n",
       "      <th>domain</th>\n",
       "      <th>area</th>\n",
       "      <th>element</th>\n",
       "      <th>item</th>\n",
       "      <th>year</th>\n",
       "      <th>unit</th>\n",
       "      <th>value</th>\n",
       "      <th>flag_description</th>\n",
       "      <th>index</th>\n",
       "      <th>all_time_mean</th>\n",
       "      <th>percentile</th>\n",
       "    </tr>\n",
       "  </thead>\n",
       "  <tbody>\n",
       "    <tr>\n",
       "      <th>267011</th>\n",
       "      <td>Crops and livestock products</td>\n",
       "      <td>Ireland</td>\n",
       "      <td>Production</td>\n",
       "      <td>Wheat</td>\n",
       "      <td>2018</td>\n",
       "      <td>t</td>\n",
       "      <td>485480</td>\n",
       "      <td>Official figure</td>\n",
       "      <td>6630</td>\n",
       "      <td>529232.56</td>\n",
       "      <td>75-100%</td>\n",
       "    </tr>\n",
       "    <tr>\n",
       "      <th>267012</th>\n",
       "      <td>Crops and livestock products</td>\n",
       "      <td>Ireland</td>\n",
       "      <td>Production</td>\n",
       "      <td>Wheat</td>\n",
       "      <td>2019</td>\n",
       "      <td>t</td>\n",
       "      <td>595360</td>\n",
       "      <td>Official figure</td>\n",
       "      <td>6630</td>\n",
       "      <td>529232.56</td>\n",
       "      <td>75-100%</td>\n",
       "    </tr>\n",
       "    <tr>\n",
       "      <th>267013</th>\n",
       "      <td>Crops and livestock products</td>\n",
       "      <td>Ireland</td>\n",
       "      <td>Production</td>\n",
       "      <td>Wheat</td>\n",
       "      <td>2020</td>\n",
       "      <td>t</td>\n",
       "      <td>364920</td>\n",
       "      <td>Official figure</td>\n",
       "      <td>6630</td>\n",
       "      <td>529232.56</td>\n",
       "      <td>75-100%</td>\n",
       "    </tr>\n",
       "    <tr>\n",
       "      <th>267014</th>\n",
       "      <td>Crops and livestock products</td>\n",
       "      <td>Ireland</td>\n",
       "      <td>Production</td>\n",
       "      <td>Wheat</td>\n",
       "      <td>2021</td>\n",
       "      <td>t</td>\n",
       "      <td>628080</td>\n",
       "      <td>Official figure</td>\n",
       "      <td>6630</td>\n",
       "      <td>529232.56</td>\n",
       "      <td>75-100%</td>\n",
       "    </tr>\n",
       "    <tr>\n",
       "      <th>267015</th>\n",
       "      <td>Crops and livestock products</td>\n",
       "      <td>Ireland</td>\n",
       "      <td>Production</td>\n",
       "      <td>Wheat</td>\n",
       "      <td>2022</td>\n",
       "      <td>t</td>\n",
       "      <td>701240</td>\n",
       "      <td>Official figure</td>\n",
       "      <td>6630</td>\n",
       "      <td>529232.56</td>\n",
       "      <td>75-100%</td>\n",
       "    </tr>\n",
       "  </tbody>\n",
       "</table>\n",
       "</div>"
      ],
      "text/plain": [
       "                              domain     area     element   item  year unit  \\\n",
       "267011  Crops and livestock products  Ireland  Production  Wheat  2018    t   \n",
       "267012  Crops and livestock products  Ireland  Production  Wheat  2019    t   \n",
       "267013  Crops and livestock products  Ireland  Production  Wheat  2020    t   \n",
       "267014  Crops and livestock products  Ireland  Production  Wheat  2021    t   \n",
       "267015  Crops and livestock products  Ireland  Production  Wheat  2022    t   \n",
       "\n",
       "         value flag_description  index  all_time_mean percentile  \n",
       "267011  485480  Official figure   6630      529232.56    75-100%  \n",
       "267012  595360  Official figure   6630      529232.56    75-100%  \n",
       "267013  364920  Official figure   6630      529232.56    75-100%  \n",
       "267014  628080  Official figure   6630      529232.56    75-100%  \n",
       "267015  701240  Official figure   6630      529232.56    75-100%  "
      ]
     },
     "execution_count": 41,
     "metadata": {},
     "output_type": "execute_result"
    }
   ],
   "source": [
    "df.tail()"
   ]
  },
  {
   "cell_type": "code",
   "execution_count": 42,
   "id": "9d168277",
   "metadata": {},
   "outputs": [
    {
     "data": {
      "text/html": [
       "<div>\n",
       "<style scoped>\n",
       "    .dataframe tbody tr th:only-of-type {\n",
       "        vertical-align: middle;\n",
       "    }\n",
       "\n",
       "    .dataframe tbody tr th {\n",
       "        vertical-align: top;\n",
       "    }\n",
       "\n",
       "    .dataframe thead th {\n",
       "        text-align: right;\n",
       "    }\n",
       "</style>\n",
       "<table border=\"1\" class=\"dataframe\">\n",
       "  <thead>\n",
       "    <tr style=\"text-align: right;\">\n",
       "      <th></th>\n",
       "      <th>year</th>\n",
       "      <th>value</th>\n",
       "      <th>index</th>\n",
       "      <th>all_time_mean</th>\n",
       "    </tr>\n",
       "  </thead>\n",
       "  <tbody>\n",
       "    <tr>\n",
       "      <th>count</th>\n",
       "      <td>267016.000000</td>\n",
       "      <td>2.670160e+05</td>\n",
       "      <td>267016.000000</td>\n",
       "      <td>2.670160e+05</td>\n",
       "    </tr>\n",
       "    <tr>\n",
       "      <th>mean</th>\n",
       "      <td>1994.723885</td>\n",
       "      <td>2.075236e+05</td>\n",
       "      <td>3381.658496</td>\n",
       "      <td>2.075236e+05</td>\n",
       "    </tr>\n",
       "    <tr>\n",
       "      <th>std</th>\n",
       "      <td>17.666619</td>\n",
       "      <td>1.226368e+06</td>\n",
       "      <td>1940.839557</td>\n",
       "      <td>1.151618e+06</td>\n",
       "    </tr>\n",
       "    <tr>\n",
       "      <th>min</th>\n",
       "      <td>1961.000000</td>\n",
       "      <td>0.000000e+00</td>\n",
       "      <td>0.000000</td>\n",
       "      <td>0.000000e+00</td>\n",
       "    </tr>\n",
       "    <tr>\n",
       "      <th>25%</th>\n",
       "      <td>1980.000000</td>\n",
       "      <td>5.520000e+02</td>\n",
       "      <td>1673.000000</td>\n",
       "      <td>1.370340e+03</td>\n",
       "    </tr>\n",
       "    <tr>\n",
       "      <th>50%</th>\n",
       "      <td>1997.000000</td>\n",
       "      <td>1.191100e+04</td>\n",
       "      <td>3347.000000</td>\n",
       "      <td>1.482889e+04</td>\n",
       "    </tr>\n",
       "    <tr>\n",
       "      <th>75%</th>\n",
       "      <td>2010.000000</td>\n",
       "      <td>7.390325e+04</td>\n",
       "      <td>5088.000000</td>\n",
       "      <td>8.171274e+04</td>\n",
       "    </tr>\n",
       "    <tr>\n",
       "      <th>max</th>\n",
       "      <td>2022.000000</td>\n",
       "      <td>5.192821e+07</td>\n",
       "      <td>6696.000000</td>\n",
       "      <td>2.807130e+07</td>\n",
       "    </tr>\n",
       "  </tbody>\n",
       "</table>\n",
       "</div>"
      ],
      "text/plain": [
       "                year         value          index  all_time_mean\n",
       "count  267016.000000  2.670160e+05  267016.000000   2.670160e+05\n",
       "mean     1994.723885  2.075236e+05    3381.658496   2.075236e+05\n",
       "std        17.666619  1.226368e+06    1940.839557   1.151618e+06\n",
       "min      1961.000000  0.000000e+00       0.000000   0.000000e+00\n",
       "25%      1980.000000  5.520000e+02    1673.000000   1.370340e+03\n",
       "50%      1997.000000  1.191100e+04    3347.000000   1.482889e+04\n",
       "75%      2010.000000  7.390325e+04    5088.000000   8.171274e+04\n",
       "max      2022.000000  5.192821e+07    6696.000000   2.807130e+07"
      ]
     },
     "execution_count": 42,
     "metadata": {},
     "output_type": "execute_result"
    }
   ],
   "source": [
    "df.describe()"
   ]
  },
  {
   "cell_type": "code",
   "execution_count": 46,
   "id": "18dac97c",
   "metadata": {},
   "outputs": [
    {
     "data": {
      "text/html": [
       "<div>\n",
       "<style scoped>\n",
       "    .dataframe tbody tr th:only-of-type {\n",
       "        vertical-align: middle;\n",
       "    }\n",
       "\n",
       "    .dataframe tbody tr th {\n",
       "        vertical-align: top;\n",
       "    }\n",
       "\n",
       "    .dataframe thead th {\n",
       "        text-align: right;\n",
       "    }\n",
       "</style>\n",
       "<table border=\"1\" class=\"dataframe\">\n",
       "  <thead>\n",
       "    <tr style=\"text-align: right;\">\n",
       "      <th></th>\n",
       "      <th>domain</th>\n",
       "      <th>area</th>\n",
       "      <th>element</th>\n",
       "      <th>item</th>\n",
       "      <th>year</th>\n",
       "      <th>unit</th>\n",
       "      <th>value</th>\n",
       "      <th>flag_description</th>\n",
       "      <th>index</th>\n",
       "      <th>all_time_mean</th>\n",
       "      <th>percentile</th>\n",
       "    </tr>\n",
       "  </thead>\n",
       "  <tbody>\n",
       "    <tr>\n",
       "      <th>2899</th>\n",
       "      <td>Crops and livestock products</td>\n",
       "      <td>Portugal</td>\n",
       "      <td>Production</td>\n",
       "      <td>Chestnuts, in shell</td>\n",
       "      <td>1961</td>\n",
       "      <td>t</td>\n",
       "      <td>82000</td>\n",
       "      <td>Official figure</td>\n",
       "      <td>1423</td>\n",
       "      <td>35103.69</td>\n",
       "      <td>75-100%</td>\n",
       "    </tr>\n",
       "    <tr>\n",
       "      <th>2900</th>\n",
       "      <td>Crops and livestock products</td>\n",
       "      <td>Portugal</td>\n",
       "      <td>Production</td>\n",
       "      <td>Chestnuts, in shell</td>\n",
       "      <td>1962</td>\n",
       "      <td>t</td>\n",
       "      <td>96000</td>\n",
       "      <td>Official figure</td>\n",
       "      <td>1423</td>\n",
       "      <td>35103.69</td>\n",
       "      <td>75-100%</td>\n",
       "    </tr>\n",
       "    <tr>\n",
       "      <th>2901</th>\n",
       "      <td>Crops and livestock products</td>\n",
       "      <td>Portugal</td>\n",
       "      <td>Production</td>\n",
       "      <td>Chestnuts, in shell</td>\n",
       "      <td>1963</td>\n",
       "      <td>t</td>\n",
       "      <td>64000</td>\n",
       "      <td>Official figure</td>\n",
       "      <td>1423</td>\n",
       "      <td>35103.69</td>\n",
       "      <td>75-100%</td>\n",
       "    </tr>\n",
       "    <tr>\n",
       "      <th>2902</th>\n",
       "      <td>Crops and livestock products</td>\n",
       "      <td>Portugal</td>\n",
       "      <td>Production</td>\n",
       "      <td>Chestnuts, in shell</td>\n",
       "      <td>1964</td>\n",
       "      <td>t</td>\n",
       "      <td>90000</td>\n",
       "      <td>Official figure</td>\n",
       "      <td>1423</td>\n",
       "      <td>35103.69</td>\n",
       "      <td>75-100%</td>\n",
       "    </tr>\n",
       "    <tr>\n",
       "      <th>2903</th>\n",
       "      <td>Crops and livestock products</td>\n",
       "      <td>Portugal</td>\n",
       "      <td>Production</td>\n",
       "      <td>Chestnuts, in shell</td>\n",
       "      <td>1965</td>\n",
       "      <td>t</td>\n",
       "      <td>47000</td>\n",
       "      <td>Official figure</td>\n",
       "      <td>1423</td>\n",
       "      <td>35103.69</td>\n",
       "      <td>75-100%</td>\n",
       "    </tr>\n",
       "  </tbody>\n",
       "</table>\n",
       "</div>"
      ],
      "text/plain": [
       "                            domain      area     element                 item  \\\n",
       "2899  Crops and livestock products  Portugal  Production  Chestnuts, in shell   \n",
       "2900  Crops and livestock products  Portugal  Production  Chestnuts, in shell   \n",
       "2901  Crops and livestock products  Portugal  Production  Chestnuts, in shell   \n",
       "2902  Crops and livestock products  Portugal  Production  Chestnuts, in shell   \n",
       "2903  Crops and livestock products  Portugal  Production  Chestnuts, in shell   \n",
       "\n",
       "      year unit  value flag_description  index  all_time_mean percentile  \n",
       "2899  1961    t  82000  Official figure   1423       35103.69    75-100%  \n",
       "2900  1962    t  96000  Official figure   1423       35103.69    75-100%  \n",
       "2901  1963    t  64000  Official figure   1423       35103.69    75-100%  \n",
       "2902  1964    t  90000  Official figure   1423       35103.69    75-100%  \n",
       "2903  1965    t  47000  Official figure   1423       35103.69    75-100%  "
      ]
     },
     "execution_count": 46,
     "metadata": {},
     "output_type": "execute_result"
    }
   ],
   "source": [
    "d = df[(df.value > 0.0) & (df.unit == 't') & (df['percentile'] == '75-100%')]\n",
    "d.head()"
   ]
  },
  {
   "cell_type": "code",
   "execution_count": 49,
   "id": "b78e9a79",
   "metadata": {},
   "outputs": [],
   "source": [
    "top_irish_crops = data=df[(df.value > 0.0) & (df.area == 'Ireland') & (df.unit == 't') & (df['percentile'] == '75-100%')]"
   ]
  },
  {
   "cell_type": "code",
   "execution_count": 50,
   "id": "382459b7",
   "metadata": {},
   "outputs": [
    {
     "data": {
      "text/plain": [
       "<Figure size 960x480 with 0 Axes>"
      ]
     },
     "execution_count": 50,
     "metadata": {},
     "output_type": "execute_result"
    },
    {
     "data": {
      "image/png": "[encoded data removed]",
      "text/plain": [
       "<Figure size 960x480 with 1 Axes>"
      ]
     },
     "metadata": {},
     "output_type": "display_data"
    }
   ],
   "source": [
    "figure(figsize=(12, 6), dpi=80)\n",
    "_ = sns.lineplot(data=top_irish_crops, x='year', y='value', hue='item')\n",
    "_ = plt.show()"
   ]
  },
  {
   "cell_type": "markdown",
   "id": "59ef7a9f",
   "metadata": {},
   "source": [
    "From: https://plotly.com/python/line-charts/"
   ]
  },
  {
   "cell_type": "code",
   "execution_count": 67,
   "id": "f0a29322",
   "metadata": {},
   "outputs": [],
   "source": [
    "from dash import Dash, dcc, html, Input, Output\n",
    "import plotly.express as px\n",
    "from plotly.subplots import make_subplots\n",
    "import plotly.graph_objects as go\n",
    "import plotly.tools as tls\n"
   ]
  },
  {
   "cell_type": "code",
   "execution_count": 101,
   "id": "f0eb9246",
   "metadata": {},
   "outputs": [
    {
     "data": {
      "text/html": [
       "\n",
       "        <iframe\n",
       "            width=\"100%\"\n",
       "            height=\"650\"\n",
       "            src=\"http://127.0.0.1:8050/\"\n",
       "            frameborder=\"0\"\n",
       "            allowfullscreen\n",
       "            \n",
       "        ></iframe>\n",
       "        "
      ],
      "text/plain": [
       "<IPython.lib.display.IFrame at 0x13591f790>"
      ]
     },
     "metadata": {},
     "output_type": "display_data"
    }
   ],
   "source": [
    "app = Dash(__name__)\n",
    "\n",
    "app.layout = html.Div([\n",
    "    html.Div([\n",
    "        html.Div([\n",
    "            dcc.Dropdown(\n",
    "                id=\"area\",\n",
    "                options=df.area.unique(),\n",
    "                value=\"Ireland\",\n",
    "            ),\n",
    "            dcc.RadioItems(\n",
    "                PERCENTILE_LABELS,\n",
    "                PERCENTILE_LABELS[-1],\n",
    "                id=\"percentile\",\n",
    "                inline=True,\n",
    "            )\n",
    "        ], style={'width': '40%', 'display': 'inline-block'}),\n",
    "    ]),\n",
    "    dcc.Graph(id=\"line-graph\"),\n",
    "    dcc.Graph(id=\"bar-graph\"),\n",
    "])\n",
    "\n",
    "\n",
    "@app.callback([\n",
    "    Output(\"line-graph\", \"figure\"), \n",
    "    Output(\"bar-graph\", \"figure\")], \n",
    "    Input(\"percentile\", \"value\"),\n",
    "    Input(\"area\", \"value\"))\n",
    "def update_line_chart(percentile, area):\n",
    "    data=df[(df.value > 0.0) & (df.unit == 't') & (df.area == area) & (df.percentile == percentile)]\n",
    "    return (px.line(data, x=\"year\", y=\"value\", color='item', title=f\"{percentile} Crops Production in {area}\"), \n",
    "            px.bar(data, x=\"year\", y=\"value\", color=\"item\", title=f\"{percentile} Crops Production in {area}\"))\n",
    "\n",
    "\n",
    "app.run_server(debug=True)"
   ]
  },
  {
   "cell_type": "code",
   "execution_count": 122,
   "id": "2b34ac1e",
   "metadata": {},
   "outputs": [
    {
     "data": {
      "text/html": [
       "\n",
       "        <iframe\n",
       "            width=\"100%\"\n",
       "            height=\"650\"\n",
       "            src=\"http://127.0.0.1:8051/\"\n",
       "            frameborder=\"0\"\n",
       "            allowfullscreen\n",
       "            \n",
       "        ></iframe>\n",
       "        "
      ],
      "text/plain": [
       "<IPython.lib.display.IFrame at 0x1321bc110>"
      ]
     },
     "metadata": {},
     "output_type": "display_data"
    }
   ],
   "source": [
    "app_comp = Dash(__name__)\n",
    "\n",
    "app_comp.layout = html.Div([\n",
    "    html.Div([\n",
    "        dcc.Dropdown(\n",
    "            id=\"item\",\n",
    "            options=top_irish_crops.item.unique(),\n",
    "            value=\"Barley\",\n",
    "        ),\n",
    "    ], style={'width': '42%', 'display': 'inline-block', \"borderColor\": \"#66c2a5\"}),\n",
    "    html.Div([\n",
    "        dcc.Dropdown(\n",
    "            id=\"metric\",\n",
    "            options=df.element.unique(),\n",
    "            value=\"Production\",\n",
    "        ),\n",
    "    ], style={'width': '42%', 'display': 'inline-block', \"borderColor\": \"#66c2a5\"}),\n",
    "    html.Div([\n",
    "            dcc.Checklist(\n",
    "                id=\"areas\",\n",
    "                options=df.area.unique(),\n",
    "                value=[\"Belgium\", \"Ireland\"]\n",
    "            ),\n",
    "        ], style={'width': '15%', 'float': 'right', 'display': 'inline-block', \"backgroundColor\": \"#fafbfc\"}),\n",
    "    html.Div([\n",
    "        html.Div([\n",
    "           dcc.Graph(id=\"graph\"),\n",
    "        ], style={'width': '84%', 'float': 'left'}),\n",
    "    ])\n",
    "])\n",
    "\n",
    "\n",
    "@app_comp.callback(\n",
    "    Output(\"graph\", \"figure\"), \n",
    "    Input(\"item\", \"value\"),\n",
    "    Input(\"metric\", \"value\"),\n",
    "    Input(\"areas\", \"value\"))\n",
    "def update_line_chart(item, metric, areas):\n",
    "    data=df[(df.value > 0.0) & \n",
    "            (df.item == item) & \n",
    "            (df.element == metric) & \n",
    "            (df.area.isin(areas))]\n",
    "    return px.line(data, x=\"year\", y=\"value\", color='area')\n",
    "\n",
    "\n",
    "app_comp.run_server(debug=True, port=8051)"
   ]
  },
  {
   "cell_type": "code",
   "execution_count": 142,
   "id": "98aaf711",
   "metadata": {},
   "outputs": [
    {
     "data": {
      "text/html": [
       "<div>\n",
       "<style scoped>\n",
       "    .dataframe tbody tr th:only-of-type {\n",
       "        vertical-align: middle;\n",
       "    }\n",
       "\n",
       "    .dataframe tbody tr th {\n",
       "        vertical-align: top;\n",
       "    }\n",
       "\n",
       "    .dataframe thead th {\n",
       "        text-align: right;\n",
       "    }\n",
       "</style>\n",
       "<table border=\"1\" class=\"dataframe\">\n",
       "  <thead>\n",
       "    <tr style=\"text-align: right;\">\n",
       "      <th>element</th>\n",
       "      <th>year</th>\n",
       "      <th>area</th>\n",
       "      <th>item</th>\n",
       "      <th>Area harvested</th>\n",
       "      <th>Production</th>\n",
       "      <th>Yield</th>\n",
       "    </tr>\n",
       "  </thead>\n",
       "  <tbody>\n",
       "    <tr>\n",
       "      <th>0</th>\n",
       "      <td>1961</td>\n",
       "      <td>Austria</td>\n",
       "      <td>Asparagus</td>\n",
       "      <td>35.0</td>\n",
       "      <td>150.0</td>\n",
       "      <td>42857.0</td>\n",
       "    </tr>\n",
       "    <tr>\n",
       "      <th>1</th>\n",
       "      <td>1961</td>\n",
       "      <td>Austria</td>\n",
       "      <td>Barley</td>\n",
       "      <td>187648.0</td>\n",
       "      <td>511571.0</td>\n",
       "      <td>27262.0</td>\n",
       "    </tr>\n",
       "    <tr>\n",
       "      <th>2</th>\n",
       "      <td>1961</td>\n",
       "      <td>Austria</td>\n",
       "      <td>Beans, dry</td>\n",
       "      <td>682.0</td>\n",
       "      <td>1160.0</td>\n",
       "      <td>17009.0</td>\n",
       "    </tr>\n",
       "    <tr>\n",
       "      <th>3</th>\n",
       "      <td>1961</td>\n",
       "      <td>Austria</td>\n",
       "      <td>Broad beans and horse beans, dry</td>\n",
       "      <td>659.0</td>\n",
       "      <td>1635.0</td>\n",
       "      <td>24810.0</td>\n",
       "    </tr>\n",
       "    <tr>\n",
       "      <th>4</th>\n",
       "      <td>1961</td>\n",
       "      <td>Austria</td>\n",
       "      <td>Buckwheat</td>\n",
       "      <td>224.0</td>\n",
       "      <td>256.0</td>\n",
       "      <td>11429.0</td>\n",
       "    </tr>\n",
       "  </tbody>\n",
       "</table>\n",
       "</div>"
      ],
      "text/plain": [
       "element  year     area                              item  Area harvested  \\\n",
       "0        1961  Austria                         Asparagus            35.0   \n",
       "1        1961  Austria                            Barley        187648.0   \n",
       "2        1961  Austria                        Beans, dry           682.0   \n",
       "3        1961  Austria  Broad beans and horse beans, dry           659.0   \n",
       "4        1961  Austria                         Buckwheat           224.0   \n",
       "\n",
       "element  Production    Yield  \n",
       "0             150.0  42857.0  \n",
       "1          511571.0  27262.0  \n",
       "2            1160.0  17009.0  \n",
       "3            1635.0  24810.0  \n",
       "4             256.0  11429.0  "
      ]
     },
     "execution_count": 142,
     "metadata": {},
     "output_type": "execute_result"
    }
   ],
   "source": [
    "df_unstacked = df.pivot(index=['year', 'area', 'item'], columns='element', values='value').dropna().reset_index(['year', 'area', 'item'])\n",
    "df_unstacked.head()\n",
    "\n",
    "ELEMENTS = ['Area harvested', 'Production', 'Yield']"
   ]
  },
  {
   "cell_type": "code",
   "execution_count": 118,
   "id": "799cc54e",
   "metadata": {},
   "outputs": [],
   "source": [
    "df_unstacked = df_unstacked[(df_unstacked.year >= 1990) & (df_unstacked.Production > 0)]"
   ]
  },
  {
   "cell_type": "code",
   "execution_count": 180,
   "id": "e67c5a14",
   "metadata": {},
   "outputs": [
    {
     "data": {
      "text/plain": [
       "<Axes: xlabel='element', ylabel='element'>"
      ]
     },
     "execution_count": 180,
     "metadata": {},
     "output_type": "execute_result"
    },
    {
     "data": {
      "image/png": "[encoded data removed]",
      "text/plain": [
       "<Figure size 640x480 with 2 Axes>"
      ]
     },
     "metadata": {},
     "output_type": "display_data"
    }
   ],
   "source": [
    "corr = df_unstacked[['year', 'Area harvested', 'Production', 'Yield']].corr()\n",
    "sns.heatmap(corr, cmap=\"Blues\", annot=True)"
   ]
  },
  {
   "cell_type": "markdown",
   "id": "1966e6b9-bb39-4161-850e-4bf210c7fd74",
   "metadata": {},
   "source": [
    "# Statistics"
   ]
  },
  {
   "cell_type": "code",
   "execution_count": 127,
   "id": "f3e5fbe5-491a-4cf5-a14d-85be6d2ba4c4",
   "metadata": {},
   "outputs": [],
   "source": [
    "#Importing libraries\n",
    "\n",
    "import pandas as pd\n",
    "import numpy as np\n",
    "import scipy.stats as stats\n",
    "from statsmodels.stats import weightstats\n",
    "\n",
    "#Importing the libraries\n",
    "import matplotlib.pyplot as plt\n",
    "import statsmodels.api as sm\n",
    "from statsmodels.formula.api import ols\n",
    "import scipy as scipy"
   ]
  },
  {
   "cell_type": "code",
   "execution_count": 51,
   "id": "5f94c3e0",
   "metadata": {},
   "outputs": [],
   "source": [
    "# https://www.kaggle.com/code/brekhnaa/analysis-of-variance-anova"
   ]
  },
  {
   "cell_type": "code",
   "execution_count": 21,
   "id": "ba7ac9fc-59a4-45dd-8036-892d76d5ee37",
   "metadata": {},
   "outputs": [
    {
     "data": {
      "image/png": "[encoded data removed]",
      "text/plain": [
       "<Figure size 640x480 with 1 Axes>"
      ]
     },
     "metadata": {},
     "output_type": "display_data"
    }
   ],
   "source": [
    "barley_data = df[(df.element == 'Production') & (df.item == 'Barley')]\n",
    "_ = sns.histplot(data=barley_data, x='value', bins=10)\n"
   ]
  },
  {
   "cell_type": "code",
   "execution_count": 41,
   "id": "94604d0e",
   "metadata": {},
   "outputs": [
    {
     "data": {
      "image/png": "[encoded data removed]",
      "text/plain": [
       "<Figure size 640x480 with 1 Axes>"
      ]
     },
     "metadata": {},
     "output_type": "display_data"
    }
   ],
   "source": [
    "wheat_yield = df[(df.value > 0.0) & (df.item == 'Wheat') & (df.element == 'Yield')]\n",
    "_ = sns.histplot(data=wheat_yield, x='value', bins=10)\n"
   ]
  },
  {
   "cell_type": "code",
   "execution_count": 158,
   "id": "eb8d0942",
   "metadata": {},
   "outputs": [],
   "source": [
    "def filter_df(df, item, metric, area, year):\n",
    "    return df[(df.value > 0.0) & (df.item == item) & (df.element == metric) & (df.area == area) & (df.year >= year)]"
   ]
  },
  {
   "cell_type": "markdown",
   "id": "1742ecdb",
   "metadata": {},
   "source": [
    "Based on the graph above epxlore similarities between barley production in Ireland vs Sweden"
   ]
  },
  {
   "cell_type": "code",
   "execution_count": 32,
   "id": "e3ddc8d1",
   "metadata": {},
   "outputs": [
    {
     "data": {
      "text/plain": [
       "TtestResult(statistic=-8.274887082484733, pvalue=2.108363734344893e-13, df=119.35353288843136)"
      ]
     },
     "execution_count": 32,
     "metadata": {},
     "output_type": "execute_result"
    }
   ],
   "source": [
    "# Barley Sweden vs Ireland\n",
    "\n",
    "X1 = filter_df(df, 'Barley', 'Production', 'Ireland', 1961)\n",
    "X2 = filter_df(df, 'Barley', 'Production', 'Sweden', 1961)\n",
    "\n",
    "t_test_barley = stats.ttest_ind(X1.value, X2.value, equal_var = False)\n",
    "t_test_barley"
   ]
  },
  {
   "cell_type": "markdown",
   "id": "acfc2133",
   "metadata": {},
   "source": [
    "As pvalue is lower than alpha, we reject the null hypothesis.\n",
    "\n",
    "**Interpretation**: With a 5% significance level, there is enough evidence to say that there are differences between Itish and Swedish barley production as observed from year 1961 until 2022."
   ]
  },
  {
   "cell_type": "code",
   "execution_count": 33,
   "id": "a0c688b2",
   "metadata": {},
   "outputs": [
    {
     "data": {
      "text/plain": [
       "TtestResult(statistic=-1.1251166718413368, pvalue=0.2692174781299017, df=30.849374886060687)"
      ]
     },
     "execution_count": 33,
     "metadata": {},
     "output_type": "execute_result"
    }
   ],
   "source": [
    "# Barley Sweden vs Ireland post 2006\n",
    "X1 = filter_df(df, 'Barley', 'Production', 'Ireland', 2006)\n",
    "X2 = filter_df(df, 'Barley', 'Production', 'Sweden', 2006)\n",
    "\n",
    "t_test_barley = stats.ttest_ind(X1.value, X2.value, equal_var = False)\n",
    "t_test_barley"
   ]
  },
  {
   "cell_type": "markdown",
   "id": "77fe43c6",
   "metadata": {},
   "source": [
    "As pvalue is higher than alpha, we **accept** the null hypothesis.\n",
    "\n",
    "**Interpretation**: With a 5% significance level, there is enough evidence to say that there are NO differences between Itish and Swedish barley production as observed from year 2006 until 2022.\n",
    "\n",
    "Assumption is that one of the contributing factors could be introduction of CAP."
   ]
  },
  {
   "cell_type": "code",
   "execution_count": 172,
   "id": "831c4ef6",
   "metadata": {},
   "outputs": [
    {
     "data": {
      "text/plain": [
       "TtestResult(statistic=2.1492199461011676, pvalue=0.04159312462200444, df=24.746714809060233)"
      ]
     },
     "execution_count": 172,
     "metadata": {},
     "output_type": "execute_result"
    }
   ],
   "source": [
    "\n",
    "# Oats Czechia vs Ireland post 2006\n",
    "X1 = filter_df(df, 'Oats', 'Production', 'Ireland', 2006)\n",
    "X2 = filter_df(df, 'Oats', 'Production', 'Czechia', 2006) \n",
    "\n",
    "t_test_oats = stats.ttest_ind(X1.value, X2.value, equal_var = False)\n",
    "t_test_oats"
   ]
  },
  {
   "cell_type": "markdown",
   "id": "c82e480a",
   "metadata": {},
   "source": [
    "### Check whether Barley production in Ireland is normally distributed.\n",
    "Null Hypothesis H0: Barley production in Ireland follows normal distribution."
   ]
  },
  {
   "cell_type": "code",
   "execution_count": 42,
   "id": "0aeffab7",
   "metadata": {},
   "outputs": [
    {
     "name": "stdout",
     "output_type": "stream",
     "text": [
      "p = 0.199551\n",
      "The null hypothesis cannot be rejected\n"
     ]
    }
   ],
   "source": [
    "k2, p = stats.normaltest(filter_df(df, 'Barley', 'Production', 'Ireland', 1961).value)\n",
    "alpha = 1e-3\n",
    "print(\"p = {:g}\".format(p))\n",
    "if p < alpha:  # null hypothesis: x comes from a normal distribution\n",
    "    print(\"The null hypothesis can be rejected\")\n",
    "else:\n",
    "    print(\"The null hypothesis cannot be rejected\")"
   ]
  },
  {
   "cell_type": "code",
   "execution_count": 125,
   "id": "18d18e37",
   "metadata": {},
   "outputs": [
    {
     "name": "stdout",
     "output_type": "stream",
     "text": [
      "p = 2.01955e-05\n",
      "The null hypothesis can be rejected\n"
     ]
    }
   ],
   "source": [
    "k2, p = stats.normaltest(df[(df.value > 0.0) & (df.area == 'Ireland') & (df.item == 'Wheat') & (df.element == 'Yield')].value)\n",
    "alpha = 1e-3\n",
    "print(\"p = {:g}\".format(p))\n",
    "if p < alpha:  # null hypothesis: x comes from a normal distribution\n",
    "    print(\"The null hypothesis can be rejected\")\n",
    "else:\n",
    "    print(\"The null hypothesis cannot be rejected\")"
   ]
  },
  {
   "cell_type": "code",
   "execution_count": 128,
   "id": "5fe36b4d",
   "metadata": {},
   "outputs": [
    {
     "data": {
      "text/html": [
       "<div>\n",
       "<style scoped>\n",
       "    .dataframe tbody tr th:only-of-type {\n",
       "        vertical-align: middle;\n",
       "    }\n",
       "\n",
       "    .dataframe tbody tr th {\n",
       "        vertical-align: top;\n",
       "    }\n",
       "\n",
       "    .dataframe thead th {\n",
       "        text-align: right;\n",
       "    }\n",
       "</style>\n",
       "<table border=\"1\" class=\"dataframe\">\n",
       "  <thead>\n",
       "    <tr style=\"text-align: right;\">\n",
       "      <th>element</th>\n",
       "      <th>year</th>\n",
       "      <th>area</th>\n",
       "      <th>item</th>\n",
       "      <th>Area harvested</th>\n",
       "      <th>Production</th>\n",
       "      <th>Yield</th>\n",
       "    </tr>\n",
       "  </thead>\n",
       "  <tbody>\n",
       "    <tr>\n",
       "      <th>24250</th>\n",
       "      <td>1990</td>\n",
       "      <td>Austria</td>\n",
       "      <td>Apricots</td>\n",
       "      <td>1000.0</td>\n",
       "      <td>10695.0</td>\n",
       "      <td>106974.0</td>\n",
       "    </tr>\n",
       "    <tr>\n",
       "      <th>24251</th>\n",
       "      <td>1990</td>\n",
       "      <td>Austria</td>\n",
       "      <td>Asparagus</td>\n",
       "      <td>164.0</td>\n",
       "      <td>640.0</td>\n",
       "      <td>39024.0</td>\n",
       "    </tr>\n",
       "    <tr>\n",
       "      <th>24252</th>\n",
       "      <td>1990</td>\n",
       "      <td>Austria</td>\n",
       "      <td>Barley</td>\n",
       "      <td>292424.0</td>\n",
       "      <td>1520554.0</td>\n",
       "      <td>51998.0</td>\n",
       "    </tr>\n",
       "    <tr>\n",
       "      <th>24253</th>\n",
       "      <td>1990</td>\n",
       "      <td>Austria</td>\n",
       "      <td>Broad beans and horse beans, dry</td>\n",
       "      <td>9800.0</td>\n",
       "      <td>30000.0</td>\n",
       "      <td>30612.0</td>\n",
       "    </tr>\n",
       "    <tr>\n",
       "      <th>24254</th>\n",
       "      <td>1990</td>\n",
       "      <td>Austria</td>\n",
       "      <td>Cabbages</td>\n",
       "      <td>1079.0</td>\n",
       "      <td>54087.0</td>\n",
       "      <td>501270.0</td>\n",
       "    </tr>\n",
       "  </tbody>\n",
       "</table>\n",
       "</div>"
      ],
      "text/plain": [
       "element  year     area                              item  Area harvested  \\\n",
       "24250    1990  Austria                          Apricots          1000.0   \n",
       "24251    1990  Austria                         Asparagus           164.0   \n",
       "24252    1990  Austria                            Barley        292424.0   \n",
       "24253    1990  Austria  Broad beans and horse beans, dry          9800.0   \n",
       "24254    1990  Austria                          Cabbages          1079.0   \n",
       "\n",
       "element  Production     Yield  \n",
       "24250       10695.0  106974.0  \n",
       "24251         640.0   39024.0  \n",
       "24252     1520554.0   51998.0  \n",
       "24253       30000.0   30612.0  \n",
       "24254       54087.0  501270.0  "
      ]
     },
     "execution_count": 128,
     "metadata": {},
     "output_type": "execute_result"
    }
   ],
   "source": [
    "df_unstacked.head()"
   ]
  },
  {
   "cell_type": "code",
   "execution_count": 131,
   "id": "fd8a28e4",
   "metadata": {},
   "outputs": [
    {
     "name": "stderr",
     "output_type": "stream",
     "text": [
      "/var/folders/z7/8n2dlxg16tggjrtnz6s70x180000gn/T/ipykernel_27473/4034093029.py:10: UserWarning:\n",
      "\n",
      "FigureCanvasAgg is non-interactive, and thus cannot be shown\n",
      "\n"
     ]
    },
    {
     "data": {
      "image/png": "[encoded data removed]",
      "text/plain": [
       "<Figure size 1700x500 with 3 Axes>"
      ]
     },
     "metadata": {},
     "output_type": "display_data"
    }
   ],
   "source": [
    "#Check normality of the data for Production & Yield & Area Harvested\n",
    "# Probability plot - QQ plot\n",
    "# https://www.ucd.ie/ecomodel/Resources/QQplots_WebVersion.html\n",
    "\n",
    "f, axes = plt.subplots(1, 3, figsize=(17, 5))\n",
    "\n",
    "for i, element in enumerate(ELEMENTS):\n",
    "   _ = stats.probplot(df_unstacked[element], plot=axes[i]);\n",
    "  #plt.figure();\n",
    "f.show()"
   ]
  },
  {
   "cell_type": "code",
   "execution_count": 140,
   "id": "6ef3535e",
   "metadata": {},
   "outputs": [
    {
     "name": "stderr",
     "output_type": "stream",
     "text": [
      "/var/folders/z7/8n2dlxg16tggjrtnz6s70x180000gn/T/ipykernel_27473/1256165243.py:9: UserWarning:\n",
      "\n",
      "scipy.stats.shapiro: For N > 5000, computed p-value may not be accurate. Current N is 46153.\n",
      "\n"
     ]
    },
    {
     "name": "stdout",
     "output_type": "stream",
     "text": [
      "Area harvested: ShapiroResult(statistic=0.20994859776321062, pvalue=9.190668595446142e-154)\n",
      "Area harvested, sampled: ShapiroResult(statistic=0.20422198405201453, pvalue=1.6123396778196508e-90)\n",
      "Pvalue difference of  -1.6123396778196508e-90 \n",
      "\n",
      "Production: ShapiroResult(statistic=0.1975117871066565, pvalue=2.9272425031190985e-154)\n",
      "Production, sampled: ShapiroResult(statistic=0.20071177350533997, pvalue=1.2769184330894704e-90)\n",
      "Pvalue difference of  -1.2769184330894704e-90 \n",
      "\n",
      "Yield: ShapiroResult(statistic=0.3070087961593506, pvalue=1.262992525008552e-149)\n",
      "Yield, sampled: ShapiroResult(statistic=0.2797804551015073, pvalue=3.075756157062451e-88)\n",
      "Pvalue difference of  -3.075756157062451e-88 \n",
      "\n"
     ]
    }
   ],
   "source": [
    "# Shapiro Wilk Test - Normality test\n",
    "# This test is hypothesis test that will hel design if the data is normal or not\n",
    "# H0 - data normally distributed\n",
    "# H1 - data NOT normally distributed\n",
    "\n",
    "SHAPIRO_MAX_SAMPLE = 5000\n",
    "\n",
    "for element in ELEMENTS:\n",
    "   res = stats.shapiro(df_unstacked[element])\n",
    "   print(f\"{element}: {res}\")\n",
    "    \n",
    "   res_sampled = stats.shapiro(df_unstacked[element].sample(n=SHAPIRO_MAX_SAMPLE, random_state=1))\n",
    "   print(f\"{element}, sampled: {res_sampled}\")\n",
    "\n",
    "   print(\"Pvalue difference of \", res.pvalue - res_sampled.pvalue, \"\\n\")\n"
   ]
  },
  {
   "cell_type": "markdown",
   "id": "74763096",
   "metadata": {},
   "source": [
    "**Interpretation**: Reject hypothesis, becasue P is smaller than Alpha"
   ]
  },
  {
   "cell_type": "code",
   "execution_count": 141,
   "id": "62814fdd",
   "metadata": {},
   "outputs": [
    {
     "data": {
      "text/html": [
       "<div>\n",
       "<style scoped>\n",
       "    .dataframe tbody tr th:only-of-type {\n",
       "        vertical-align: middle;\n",
       "    }\n",
       "\n",
       "    .dataframe tbody tr th {\n",
       "        vertical-align: top;\n",
       "    }\n",
       "\n",
       "    .dataframe thead th {\n",
       "        text-align: right;\n",
       "    }\n",
       "</style>\n",
       "<table border=\"1\" class=\"dataframe\">\n",
       "  <thead>\n",
       "    <tr style=\"text-align: right;\">\n",
       "      <th></th>\n",
       "      <th>domain</th>\n",
       "      <th>area</th>\n",
       "      <th>element</th>\n",
       "      <th>item</th>\n",
       "      <th>year</th>\n",
       "      <th>unit</th>\n",
       "      <th>value</th>\n",
       "      <th>flag_description</th>\n",
       "      <th>index</th>\n",
       "      <th>all_time_mean</th>\n",
       "      <th>percentile</th>\n",
       "    </tr>\n",
       "  </thead>\n",
       "  <tbody>\n",
       "    <tr>\n",
       "      <th>260914</th>\n",
       "      <td>Crops and livestock products</td>\n",
       "      <td>Ireland</td>\n",
       "      <td>Production</td>\n",
       "      <td>Barley</td>\n",
       "      <td>1961</td>\n",
       "      <td>t</td>\n",
       "      <td>515400</td>\n",
       "      <td>Official figure</td>\n",
       "      <td>517</td>\n",
       "      <td>1201982.74</td>\n",
       "      <td>75-100%</td>\n",
       "    </tr>\n",
       "    <tr>\n",
       "      <th>260915</th>\n",
       "      <td>Crops and livestock products</td>\n",
       "      <td>Ireland</td>\n",
       "      <td>Production</td>\n",
       "      <td>Barley</td>\n",
       "      <td>1962</td>\n",
       "      <td>t</td>\n",
       "      <td>603200</td>\n",
       "      <td>Official figure</td>\n",
       "      <td>517</td>\n",
       "      <td>1201982.74</td>\n",
       "      <td>75-100%</td>\n",
       "    </tr>\n",
       "    <tr>\n",
       "      <th>260916</th>\n",
       "      <td>Crops and livestock products</td>\n",
       "      <td>Ireland</td>\n",
       "      <td>Production</td>\n",
       "      <td>Barley</td>\n",
       "      <td>1963</td>\n",
       "      <td>t</td>\n",
       "      <td>588900</td>\n",
       "      <td>Official figure</td>\n",
       "      <td>517</td>\n",
       "      <td>1201982.74</td>\n",
       "      <td>75-100%</td>\n",
       "    </tr>\n",
       "    <tr>\n",
       "      <th>260917</th>\n",
       "      <td>Crops and livestock products</td>\n",
       "      <td>Ireland</td>\n",
       "      <td>Production</td>\n",
       "      <td>Barley</td>\n",
       "      <td>1964</td>\n",
       "      <td>t</td>\n",
       "      <td>550699</td>\n",
       "      <td>Official figure</td>\n",
       "      <td>517</td>\n",
       "      <td>1201982.74</td>\n",
       "      <td>75-100%</td>\n",
       "    </tr>\n",
       "    <tr>\n",
       "      <th>260918</th>\n",
       "      <td>Crops and livestock products</td>\n",
       "      <td>Ireland</td>\n",
       "      <td>Production</td>\n",
       "      <td>Barley</td>\n",
       "      <td>1965</td>\n",
       "      <td>t</td>\n",
       "      <td>615730</td>\n",
       "      <td>Official figure</td>\n",
       "      <td>517</td>\n",
       "      <td>1201982.74</td>\n",
       "      <td>75-100%</td>\n",
       "    </tr>\n",
       "  </tbody>\n",
       "</table>\n",
       "</div>"
      ],
      "text/plain": [
       "                              domain     area     element    item  year unit  \\\n",
       "260914  Crops and livestock products  Ireland  Production  Barley  1961    t   \n",
       "260915  Crops and livestock products  Ireland  Production  Barley  1962    t   \n",
       "260916  Crops and livestock products  Ireland  Production  Barley  1963    t   \n",
       "260917  Crops and livestock products  Ireland  Production  Barley  1964    t   \n",
       "260918  Crops and livestock products  Ireland  Production  Barley  1965    t   \n",
       "\n",
       "         value flag_description  index  all_time_mean percentile  \n",
       "260914  515400  Official figure    517     1201982.74    75-100%  \n",
       "260915  603200  Official figure    517     1201982.74    75-100%  \n",
       "260916  588900  Official figure    517     1201982.74    75-100%  \n",
       "260917  550699  Official figure    517     1201982.74    75-100%  \n",
       "260918  615730  Official figure    517     1201982.74    75-100%  "
      ]
     },
     "execution_count": 141,
     "metadata": {},
     "output_type": "execute_result"
    }
   ],
   "source": [
    "top_irish_crops.head()"
   ]
  },
  {
   "cell_type": "code",
   "execution_count": 153,
   "id": "72bf957f",
   "metadata": {},
   "outputs": [],
   "source": [
    "# Now we can analyse normality by Product and Category (yield / production)\n",
    "alpha = 0.05\n",
    "\n",
    "results = []\n",
    "for item in top_irish_crops.item.unique():\n",
    "    for area in df_unstacked.area.unique():\n",
    "        crop_df = df_unstacked[(df_unstacked.item == item) & (df_unstacked.area == area)]\n",
    "        for element in ELEMENTS:\n",
    "            crop_el_df = crop_df[element]\n",
    "            if crop_el_df.shape[0] < 3:\n",
    "                continue\n",
    "            res_sampled = stats.shapiro(crop_el_df)\n",
    "            # if res_sampled.pvalue < alpha, then null hypothesis: x comes from a normal distribution\n",
    "            results.append([item, area, element, crop_df.shape[0], res_sampled.pvalue, res_sampled.pvalue < alpha])"
   ]
  },
  {
   "cell_type": "code",
   "execution_count": 152,
   "id": "c6349960",
   "metadata": {},
   "outputs": [
    {
     "data": {
      "text/html": [
       "<div>\n",
       "<style scoped>\n",
       "    .dataframe tbody tr th:only-of-type {\n",
       "        vertical-align: middle;\n",
       "    }\n",
       "\n",
       "    .dataframe tbody tr th {\n",
       "        vertical-align: top;\n",
       "    }\n",
       "\n",
       "    .dataframe thead th {\n",
       "        text-align: right;\n",
       "    }\n",
       "</style>\n",
       "<table border=\"1\" class=\"dataframe\">\n",
       "  <thead>\n",
       "    <tr style=\"text-align: right;\">\n",
       "      <th></th>\n",
       "      <th>item</th>\n",
       "      <th>area</th>\n",
       "      <th>element</th>\n",
       "      <th>sample_size</th>\n",
       "      <th>pval</th>\n",
       "      <th>is_normal</th>\n",
       "    </tr>\n",
       "  </thead>\n",
       "  <tbody>\n",
       "    <tr>\n",
       "      <th>0</th>\n",
       "      <td>Barley</td>\n",
       "      <td>Austria</td>\n",
       "      <td>Area harvested</td>\n",
       "      <td>62</td>\n",
       "      <td>2.871147e-02</td>\n",
       "      <td>True</td>\n",
       "    </tr>\n",
       "    <tr>\n",
       "      <th>1</th>\n",
       "      <td>Barley</td>\n",
       "      <td>Austria</td>\n",
       "      <td>Production</td>\n",
       "      <td>62</td>\n",
       "      <td>3.836077e-02</td>\n",
       "      <td>True</td>\n",
       "    </tr>\n",
       "    <tr>\n",
       "      <th>2</th>\n",
       "      <td>Barley</td>\n",
       "      <td>Austria</td>\n",
       "      <td>Yield</td>\n",
       "      <td>62</td>\n",
       "      <td>4.768819e-01</td>\n",
       "      <td>False</td>\n",
       "    </tr>\n",
       "    <tr>\n",
       "      <th>3</th>\n",
       "      <td>Barley</td>\n",
       "      <td>Bulgaria</td>\n",
       "      <td>Area harvested</td>\n",
       "      <td>62</td>\n",
       "      <td>4.627617e-01</td>\n",
       "      <td>False</td>\n",
       "    </tr>\n",
       "    <tr>\n",
       "      <th>4</th>\n",
       "      <td>Barley</td>\n",
       "      <td>Bulgaria</td>\n",
       "      <td>Production</td>\n",
       "      <td>62</td>\n",
       "      <td>8.929668e-03</td>\n",
       "      <td>True</td>\n",
       "    </tr>\n",
       "    <tr>\n",
       "      <th>...</th>\n",
       "      <td>...</td>\n",
       "      <td>...</td>\n",
       "      <td>...</td>\n",
       "      <td>...</td>\n",
       "      <td>...</td>\n",
       "      <td>...</td>\n",
       "    </tr>\n",
       "    <tr>\n",
       "      <th>95</th>\n",
       "      <td>Oats</td>\n",
       "      <td>Finland</td>\n",
       "      <td>Yield</td>\n",
       "      <td>62</td>\n",
       "      <td>5.628891e-02</td>\n",
       "      <td>False</td>\n",
       "    </tr>\n",
       "    <tr>\n",
       "      <th>96</th>\n",
       "      <td>Oats</td>\n",
       "      <td>France</td>\n",
       "      <td>Area harvested</td>\n",
       "      <td>62</td>\n",
       "      <td>1.377821e-07</td>\n",
       "      <td>True</td>\n",
       "    </tr>\n",
       "    <tr>\n",
       "      <th>97</th>\n",
       "      <td>Oats</td>\n",
       "      <td>France</td>\n",
       "      <td>Production</td>\n",
       "      <td>62</td>\n",
       "      <td>1.047801e-06</td>\n",
       "      <td>True</td>\n",
       "    </tr>\n",
       "    <tr>\n",
       "      <th>98</th>\n",
       "      <td>Oats</td>\n",
       "      <td>France</td>\n",
       "      <td>Yield</td>\n",
       "      <td>62</td>\n",
       "      <td>7.851284e-03</td>\n",
       "      <td>True</td>\n",
       "    </tr>\n",
       "    <tr>\n",
       "      <th>99</th>\n",
       "      <td>Oats</td>\n",
       "      <td>Germany</td>\n",
       "      <td>Area harvested</td>\n",
       "      <td>62</td>\n",
       "      <td>1.383090e-06</td>\n",
       "      <td>True</td>\n",
       "    </tr>\n",
       "  </tbody>\n",
       "</table>\n",
       "<p>100 rows × 6 columns</p>\n",
       "</div>"
      ],
      "text/plain": [
       "      item      area         element  sample_size          pval  is_normal\n",
       "0   Barley   Austria  Area harvested           62  2.871147e-02       True\n",
       "1   Barley   Austria      Production           62  3.836077e-02       True\n",
       "2   Barley   Austria           Yield           62  4.768819e-01      False\n",
       "3   Barley  Bulgaria  Area harvested           62  4.627617e-01      False\n",
       "4   Barley  Bulgaria      Production           62  8.929668e-03       True\n",
       "..     ...       ...             ...          ...           ...        ...\n",
       "95    Oats   Finland           Yield           62  5.628891e-02      False\n",
       "96    Oats    France  Area harvested           62  1.377821e-07       True\n",
       "97    Oats    France      Production           62  1.047801e-06       True\n",
       "98    Oats    France           Yield           62  7.851284e-03       True\n",
       "99    Oats   Germany  Area harvested           62  1.383090e-06       True\n",
       "\n",
       "[100 rows x 6 columns]"
      ]
     },
     "execution_count": 152,
     "metadata": {},
     "output_type": "execute_result"
    },
    {
     "data": {
      "text/plain": [
       "(393, 6)"
      ]
     },
     "execution_count": 152,
     "metadata": {},
     "output_type": "execute_result"
    }
   ],
   "source": [
    "shapiro_per_category = pd.DataFrame(data=results, columns=['item', 'area', 'element', 'sample_size', 'pval', 'is_normal'])\n",
    "shapiro_per_category.head(100)\n",
    "shapiro_per_category.shape"
   ]
  },
  {
   "cell_type": "code",
   "execution_count": 155,
   "id": "4de05ba4",
   "metadata": {},
   "outputs": [
    {
     "data": {
      "text/html": [
       "<div>\n",
       "<style scoped>\n",
       "    .dataframe tbody tr th:only-of-type {\n",
       "        vertical-align: middle;\n",
       "    }\n",
       "\n",
       "    .dataframe tbody tr th {\n",
       "        vertical-align: top;\n",
       "    }\n",
       "\n",
       "    .dataframe thead th {\n",
       "        text-align: right;\n",
       "    }\n",
       "</style>\n",
       "<table border=\"1\" class=\"dataframe\">\n",
       "  <thead>\n",
       "    <tr style=\"text-align: right;\">\n",
       "      <th></th>\n",
       "      <th>item</th>\n",
       "      <th>area</th>\n",
       "      <th>element</th>\n",
       "      <th>sample_size</th>\n",
       "      <th>pval</th>\n",
       "      <th>is_normal</th>\n",
       "    </tr>\n",
       "  </thead>\n",
       "  <tbody>\n",
       "    <tr>\n",
       "      <th>0</th>\n",
       "      <td>Barley</td>\n",
       "      <td>Austria</td>\n",
       "      <td>Area harvested</td>\n",
       "      <td>62</td>\n",
       "      <td>2.871147e-02</td>\n",
       "      <td>True</td>\n",
       "    </tr>\n",
       "    <tr>\n",
       "      <th>1</th>\n",
       "      <td>Barley</td>\n",
       "      <td>Austria</td>\n",
       "      <td>Production</td>\n",
       "      <td>62</td>\n",
       "      <td>3.836077e-02</td>\n",
       "      <td>True</td>\n",
       "    </tr>\n",
       "    <tr>\n",
       "      <th>4</th>\n",
       "      <td>Barley</td>\n",
       "      <td>Bulgaria</td>\n",
       "      <td>Production</td>\n",
       "      <td>62</td>\n",
       "      <td>8.929668e-03</td>\n",
       "      <td>True</td>\n",
       "    </tr>\n",
       "    <tr>\n",
       "      <th>6</th>\n",
       "      <td>Barley</td>\n",
       "      <td>Cyprus</td>\n",
       "      <td>Area harvested</td>\n",
       "      <td>62</td>\n",
       "      <td>4.509056e-02</td>\n",
       "      <td>True</td>\n",
       "    </tr>\n",
       "    <tr>\n",
       "      <th>9</th>\n",
       "      <td>Barley</td>\n",
       "      <td>Denmark</td>\n",
       "      <td>Area harvested</td>\n",
       "      <td>62</td>\n",
       "      <td>1.218209e-05</td>\n",
       "      <td>True</td>\n",
       "    </tr>\n",
       "    <tr>\n",
       "      <th>10</th>\n",
       "      <td>Barley</td>\n",
       "      <td>Denmark</td>\n",
       "      <td>Production</td>\n",
       "      <td>62</td>\n",
       "      <td>1.438472e-03</td>\n",
       "      <td>True</td>\n",
       "    </tr>\n",
       "    <tr>\n",
       "      <th>12</th>\n",
       "      <td>Barley</td>\n",
       "      <td>Finland</td>\n",
       "      <td>Area harvested</td>\n",
       "      <td>62</td>\n",
       "      <td>1.606509e-02</td>\n",
       "      <td>True</td>\n",
       "    </tr>\n",
       "    <tr>\n",
       "      <th>13</th>\n",
       "      <td>Barley</td>\n",
       "      <td>Finland</td>\n",
       "      <td>Production</td>\n",
       "      <td>62</td>\n",
       "      <td>1.041218e-03</td>\n",
       "      <td>True</td>\n",
       "    </tr>\n",
       "    <tr>\n",
       "      <th>14</th>\n",
       "      <td>Barley</td>\n",
       "      <td>Finland</td>\n",
       "      <td>Yield</td>\n",
       "      <td>62</td>\n",
       "      <td>3.552999e-02</td>\n",
       "      <td>True</td>\n",
       "    </tr>\n",
       "    <tr>\n",
       "      <th>15</th>\n",
       "      <td>Barley</td>\n",
       "      <td>France</td>\n",
       "      <td>Area harvested</td>\n",
       "      <td>62</td>\n",
       "      <td>6.485802e-05</td>\n",
       "      <td>True</td>\n",
       "    </tr>\n",
       "    <tr>\n",
       "      <th>17</th>\n",
       "      <td>Barley</td>\n",
       "      <td>France</td>\n",
       "      <td>Yield</td>\n",
       "      <td>62</td>\n",
       "      <td>4.313147e-04</td>\n",
       "      <td>True</td>\n",
       "    </tr>\n",
       "    <tr>\n",
       "      <th>18</th>\n",
       "      <td>Barley</td>\n",
       "      <td>Germany</td>\n",
       "      <td>Area harvested</td>\n",
       "      <td>62</td>\n",
       "      <td>3.191927e-04</td>\n",
       "      <td>True</td>\n",
       "    </tr>\n",
       "    <tr>\n",
       "      <th>19</th>\n",
       "      <td>Barley</td>\n",
       "      <td>Germany</td>\n",
       "      <td>Production</td>\n",
       "      <td>62</td>\n",
       "      <td>2.185245e-04</td>\n",
       "      <td>True</td>\n",
       "    </tr>\n",
       "    <tr>\n",
       "      <th>21</th>\n",
       "      <td>Barley</td>\n",
       "      <td>Greece</td>\n",
       "      <td>Area harvested</td>\n",
       "      <td>62</td>\n",
       "      <td>4.342671e-06</td>\n",
       "      <td>True</td>\n",
       "    </tr>\n",
       "    <tr>\n",
       "      <th>22</th>\n",
       "      <td>Barley</td>\n",
       "      <td>Greece</td>\n",
       "      <td>Production</td>\n",
       "      <td>62</td>\n",
       "      <td>2.258279e-05</td>\n",
       "      <td>True</td>\n",
       "    </tr>\n",
       "    <tr>\n",
       "      <th>23</th>\n",
       "      <td>Barley</td>\n",
       "      <td>Greece</td>\n",
       "      <td>Yield</td>\n",
       "      <td>62</td>\n",
       "      <td>1.268712e-04</td>\n",
       "      <td>True</td>\n",
       "    </tr>\n",
       "    <tr>\n",
       "      <th>24</th>\n",
       "      <td>Barley</td>\n",
       "      <td>Hungary</td>\n",
       "      <td>Area harvested</td>\n",
       "      <td>62</td>\n",
       "      <td>2.847036e-05</td>\n",
       "      <td>True</td>\n",
       "    </tr>\n",
       "    <tr>\n",
       "      <th>25</th>\n",
       "      <td>Barley</td>\n",
       "      <td>Hungary</td>\n",
       "      <td>Production</td>\n",
       "      <td>62</td>\n",
       "      <td>2.670942e-02</td>\n",
       "      <td>True</td>\n",
       "    </tr>\n",
       "    <tr>\n",
       "      <th>27</th>\n",
       "      <td>Barley</td>\n",
       "      <td>Ireland</td>\n",
       "      <td>Area harvested</td>\n",
       "      <td>62</td>\n",
       "      <td>3.221979e-07</td>\n",
       "      <td>True</td>\n",
       "    </tr>\n",
       "    <tr>\n",
       "      <th>30</th>\n",
       "      <td>Barley</td>\n",
       "      <td>Italy</td>\n",
       "      <td>Area harvested</td>\n",
       "      <td>62</td>\n",
       "      <td>6.186335e-03</td>\n",
       "      <td>True</td>\n",
       "    </tr>\n",
       "    <tr>\n",
       "      <th>31</th>\n",
       "      <td>Barley</td>\n",
       "      <td>Italy</td>\n",
       "      <td>Production</td>\n",
       "      <td>62</td>\n",
       "      <td>4.952681e-03</td>\n",
       "      <td>True</td>\n",
       "    </tr>\n",
       "    <tr>\n",
       "      <th>32</th>\n",
       "      <td>Barley</td>\n",
       "      <td>Italy</td>\n",
       "      <td>Yield</td>\n",
       "      <td>62</td>\n",
       "      <td>7.437831e-06</td>\n",
       "      <td>True</td>\n",
       "    </tr>\n",
       "    <tr>\n",
       "      <th>33</th>\n",
       "      <td>Barley</td>\n",
       "      <td>Malta</td>\n",
       "      <td>Area harvested</td>\n",
       "      <td>57</td>\n",
       "      <td>2.827131e-05</td>\n",
       "      <td>True</td>\n",
       "    </tr>\n",
       "    <tr>\n",
       "      <th>34</th>\n",
       "      <td>Barley</td>\n",
       "      <td>Malta</td>\n",
       "      <td>Production</td>\n",
       "      <td>57</td>\n",
       "      <td>2.554917e-06</td>\n",
       "      <td>True</td>\n",
       "    </tr>\n",
       "    <tr>\n",
       "      <th>35</th>\n",
       "      <td>Barley</td>\n",
       "      <td>Malta</td>\n",
       "      <td>Yield</td>\n",
       "      <td>57</td>\n",
       "      <td>1.224344e-05</td>\n",
       "      <td>True</td>\n",
       "    </tr>\n",
       "    <tr>\n",
       "      <th>36</th>\n",
       "      <td>Barley</td>\n",
       "      <td>Netherlands (Kingdom of the)</td>\n",
       "      <td>Area harvested</td>\n",
       "      <td>62</td>\n",
       "      <td>4.739658e-06</td>\n",
       "      <td>True</td>\n",
       "    </tr>\n",
       "    <tr>\n",
       "      <th>37</th>\n",
       "      <td>Barley</td>\n",
       "      <td>Netherlands (Kingdom of the)</td>\n",
       "      <td>Production</td>\n",
       "      <td>62</td>\n",
       "      <td>4.783443e-03</td>\n",
       "      <td>True</td>\n",
       "    </tr>\n",
       "    <tr>\n",
       "      <th>39</th>\n",
       "      <td>Barley</td>\n",
       "      <td>Poland</td>\n",
       "      <td>Area harvested</td>\n",
       "      <td>62</td>\n",
       "      <td>4.042225e-03</td>\n",
       "      <td>True</td>\n",
       "    </tr>\n",
       "    <tr>\n",
       "      <th>40</th>\n",
       "      <td>Barley</td>\n",
       "      <td>Poland</td>\n",
       "      <td>Production</td>\n",
       "      <td>62</td>\n",
       "      <td>4.492822e-05</td>\n",
       "      <td>True</td>\n",
       "    </tr>\n",
       "    <tr>\n",
       "      <th>42</th>\n",
       "      <td>Barley</td>\n",
       "      <td>Portugal</td>\n",
       "      <td>Area harvested</td>\n",
       "      <td>62</td>\n",
       "      <td>1.201443e-03</td>\n",
       "      <td>True</td>\n",
       "    </tr>\n",
       "  </tbody>\n",
       "</table>\n",
       "</div>"
      ],
      "text/plain": [
       "      item                          area         element  sample_size  \\\n",
       "0   Barley                       Austria  Area harvested           62   \n",
       "1   Barley                       Austria      Production           62   \n",
       "4   Barley                      Bulgaria      Production           62   \n",
       "6   Barley                        Cyprus  Area harvested           62   \n",
       "9   Barley                       Denmark  Area harvested           62   \n",
       "10  Barley                       Denmark      Production           62   \n",
       "12  Barley                       Finland  Area harvested           62   \n",
       "13  Barley                       Finland      Production           62   \n",
       "14  Barley                       Finland           Yield           62   \n",
       "15  Barley                        France  Area harvested           62   \n",
       "17  Barley                        France           Yield           62   \n",
       "18  Barley                       Germany  Area harvested           62   \n",
       "19  Barley                       Germany      Production           62   \n",
       "21  Barley                        Greece  Area harvested           62   \n",
       "22  Barley                        Greece      Production           62   \n",
       "23  Barley                        Greece           Yield           62   \n",
       "24  Barley                       Hungary  Area harvested           62   \n",
       "25  Barley                       Hungary      Production           62   \n",
       "27  Barley                       Ireland  Area harvested           62   \n",
       "30  Barley                         Italy  Area harvested           62   \n",
       "31  Barley                         Italy      Production           62   \n",
       "32  Barley                         Italy           Yield           62   \n",
       "33  Barley                         Malta  Area harvested           57   \n",
       "34  Barley                         Malta      Production           57   \n",
       "35  Barley                         Malta           Yield           57   \n",
       "36  Barley  Netherlands (Kingdom of the)  Area harvested           62   \n",
       "37  Barley  Netherlands (Kingdom of the)      Production           62   \n",
       "39  Barley                        Poland  Area harvested           62   \n",
       "40  Barley                        Poland      Production           62   \n",
       "42  Barley                      Portugal  Area harvested           62   \n",
       "\n",
       "            pval  is_normal  \n",
       "0   2.871147e-02       True  \n",
       "1   3.836077e-02       True  \n",
       "4   8.929668e-03       True  \n",
       "6   4.509056e-02       True  \n",
       "9   1.218209e-05       True  \n",
       "10  1.438472e-03       True  \n",
       "12  1.606509e-02       True  \n",
       "13  1.041218e-03       True  \n",
       "14  3.552999e-02       True  \n",
       "15  6.485802e-05       True  \n",
       "17  4.313147e-04       True  \n",
       "18  3.191927e-04       True  \n",
       "19  2.185245e-04       True  \n",
       "21  4.342671e-06       True  \n",
       "22  2.258279e-05       True  \n",
       "23  1.268712e-04       True  \n",
       "24  2.847036e-05       True  \n",
       "25  2.670942e-02       True  \n",
       "27  3.221979e-07       True  \n",
       "30  6.186335e-03       True  \n",
       "31  4.952681e-03       True  \n",
       "32  7.437831e-06       True  \n",
       "33  2.827131e-05       True  \n",
       "34  2.554917e-06       True  \n",
       "35  1.224344e-05       True  \n",
       "36  4.739658e-06       True  \n",
       "37  4.783443e-03       True  \n",
       "39  4.042225e-03       True  \n",
       "40  4.492822e-05       True  \n",
       "42  1.201443e-03       True  "
      ]
     },
     "execution_count": 155,
     "metadata": {},
     "output_type": "execute_result"
    }
   ],
   "source": [
    "shapiro_per_category[(shapiro_per_category.item == 'Barley') & shapiro_per_category.is_normal == True].head(30)"
   ]
  },
  {
   "cell_type": "code",
   "execution_count": 156,
   "id": "4260c695",
   "metadata": {},
   "outputs": [
    {
     "data": {
      "text/plain": [
       "array(['Portugal', 'Spain', 'Sweden', 'Bulgaria', 'Croatia', 'Cyprus',\n",
       "       'Czechia', 'Estonia', 'Latvia', 'Lithuania', 'Luxembourg', 'Malta',\n",
       "       'Germany', 'Greece', 'Italy', 'Netherlands (Kingdom of the)',\n",
       "       'Austria', 'Belgium', 'Denmark', 'Finland', 'France', 'Hungary',\n",
       "       'Poland', 'Romania', 'Slovakia', 'Slovenia', 'Ireland'],\n",
       "      dtype=object)"
      ]
     },
     "execution_count": 156,
     "metadata": {},
     "output_type": "execute_result"
    }
   ],
   "source": [
    "df.area.unique()"
   ]
  },
  {
   "cell_type": "markdown",
   "id": "07eae8b7",
   "metadata": {},
   "source": [
    "##### Levene Test\n",
    "Levene’s test is an alternative to Bartlett’s test bartlett in the case where there are significant deviations from normality.\n",
    "\n",
    "The Levene test is less sensitive than the Bartlett test to departures from normality. If you have strong evidence that your data do in fact come from a normal, or nearly normal, distribution, then Bartlett's test has better performance.\n",
    "https://www.itl.nist.gov/div898/handbook/eda/section3/eda35a.htm#:~:text=Levene's%20test%20is%20an%20alternative,Bartlett's%20test%20has%20better%20performance."
   ]
  },
  {
   "cell_type": "markdown",
   "id": "154477fa",
   "metadata": {},
   "source": []
  },
  {
   "cell_type": "code",
   "execution_count": 167,
   "id": "5a54d2d2",
   "metadata": {},
   "outputs": [
    {
     "data": {
      "text/plain": [
       "LeveneResult(statistic=1.3615854886536825, pvalue=0.24563360972459522)"
      ]
     },
     "execution_count": 167,
     "metadata": {},
     "output_type": "execute_result"
    },
    {
     "data": {
      "text/plain": [
       "BartlettResult(statistic=5.5483829539909, pvalue=0.352669678198435)"
      ]
     },
     "execution_count": 167,
     "metadata": {},
     "output_type": "execute_result"
    }
   ],
   "source": [
    "# Levene test on Barley Yield\n",
    "dfs = [filter_df(df, 'Barley', 'Yield', 'Ireland', 2006).value, \n",
    "       filter_df(df, 'Barley', 'Yield', 'Germany', 2006).value, \n",
    "       filter_df(df, 'Barley', 'Yield', 'France', 2006).value, \n",
    "       filter_df(df, 'Barley', 'Yield', 'Belgium', 2006).value, \n",
    "       filter_df(df, 'Barley', 'Yield', 'Denmark', 2006).value, \n",
    "       filter_df(df, 'Barley', 'Yield', 'Netherlands (Kingdom of the)', 2006).value]\n",
    "\n",
    "stats.levene(*dfs, center = 'mean')\n",
    "stats.bartlett(*dfs)"
   ]
  },
  {
   "cell_type": "markdown",
   "id": "177dd434",
   "metadata": {},
   "source": [
    "**Interpretation**: accept that all inout samples are from populations with equal variances."
   ]
  },
  {
   "cell_type": "code",
   "execution_count": 168,
   "id": "6ea2aa36",
   "metadata": {},
   "outputs": [
    {
     "data": {
      "text/plain": [
       "LeveneResult(statistic=5.874194676640041, pvalue=0.02119514502306541)"
      ]
     },
     "execution_count": 168,
     "metadata": {},
     "output_type": "execute_result"
    }
   ],
   "source": [
    "stats.levene(filter_df(df, 'Oats', 'Production', 'Ireland', 2006).value, \n",
    "            filter_df(df, 'Oats', 'Production', 'Czechia', 2006).value, \n",
    "            center = 'mean')"
   ]
  },
  {
   "cell_type": "code",
   "execution_count": 176,
   "id": "0d71d135",
   "metadata": {},
   "outputs": [
    {
     "data": {
      "text/html": [
       "<div>\n",
       "<style scoped>\n",
       "    .dataframe tbody tr th:only-of-type {\n",
       "        vertical-align: middle;\n",
       "    }\n",
       "\n",
       "    .dataframe tbody tr th {\n",
       "        vertical-align: top;\n",
       "    }\n",
       "\n",
       "    .dataframe thead th {\n",
       "        text-align: right;\n",
       "    }\n",
       "</style>\n",
       "<table border=\"1\" class=\"dataframe\">\n",
       "  <thead>\n",
       "    <tr style=\"text-align: right;\">\n",
       "      <th></th>\n",
       "      <th>df</th>\n",
       "      <th>sum_sq</th>\n",
       "      <th>mean_sq</th>\n",
       "      <th>F</th>\n",
       "      <th>PR(&gt;F)</th>\n",
       "    </tr>\n",
       "  </thead>\n",
       "  <tbody>\n",
       "    <tr>\n",
       "      <th>area</th>\n",
       "      <td>5.0</td>\n",
       "      <td>2.666526e+14</td>\n",
       "      <td>5.333053e+13</td>\n",
       "      <td>140.457877</td>\n",
       "      <td>5.941663e-146</td>\n",
       "    </tr>\n",
       "    <tr>\n",
       "      <th>Residual</th>\n",
       "      <td>14373.0</td>\n",
       "      <td>5.457292e+15</td>\n",
       "      <td>3.796906e+11</td>\n",
       "      <td>NaN</td>\n",
       "      <td>NaN</td>\n",
       "    </tr>\n",
       "  </tbody>\n",
       "</table>\n",
       "</div>"
      ],
      "text/plain": [
       "               df        sum_sq       mean_sq           F         PR(>F)\n",
       "area          5.0  2.666526e+14  5.333053e+13  140.457877  5.941663e-146\n",
       "Residual  14373.0  5.457292e+15  3.796906e+11         NaN            NaN"
      ]
     },
     "execution_count": 176,
     "metadata": {},
     "output_type": "execute_result"
    }
   ],
   "source": [
    "# ANOVA ######\n",
    "# H0: Average cgarges the same for all locations\n",
    "# H1: There is at least one average difference than others\n",
    "# ols('X~categorical variable')\n",
    "\n",
    "data = df_unstacked[df_unstacked.area.isin(['Ireland', 'Germany', 'France', 'Belgium', 'Denmark', 'Netherlands (Kingdom of the)'])]\n",
    "\n",
    "model = ols('Yield~area', data=data).fit()\n",
    "aov = sm.stats.anova_lm(model, type=2)\n",
    "aov"
   ]
  },
  {
   "cell_type": "markdown",
   "id": "8e9494be",
   "metadata": {},
   "source": [
    "**Conclusion** At 5% significance level there is NOT enough evidence to suggest that the average charges per region are the same.\n",
    "Reject the Null hypothesis"
   ]
  },
  {
   "cell_type": "code",
   "execution_count": 73,
   "id": "b7f1ea1b",
   "metadata": {},
   "outputs": [
    {
     "data": {
      "text/html": [
       "<div>\n",
       "<style scoped>\n",
       "    .dataframe tbody tr th:only-of-type {\n",
       "        vertical-align: middle;\n",
       "    }\n",
       "\n",
       "    .dataframe tbody tr th {\n",
       "        vertical-align: top;\n",
       "    }\n",
       "\n",
       "    .dataframe thead th {\n",
       "        text-align: right;\n",
       "    }\n",
       "</style>\n",
       "<table border=\"1\" class=\"dataframe\">\n",
       "  <thead>\n",
       "    <tr style=\"text-align: right;\">\n",
       "      <th></th>\n",
       "      <th>df</th>\n",
       "      <th>sum_sq</th>\n",
       "      <th>mean_sq</th>\n",
       "      <th>F</th>\n",
       "      <th>PR(&gt;F)</th>\n",
       "    </tr>\n",
       "  </thead>\n",
       "  <tbody>\n",
       "    <tr>\n",
       "      <th>Day</th>\n",
       "      <td>5.0</td>\n",
       "      <td>103.893554</td>\n",
       "      <td>20.778711</td>\n",
       "      <td>0.294594</td>\n",
       "      <td>0.915649</td>\n",
       "    </tr>\n",
       "    <tr>\n",
       "      <th>Residual</th>\n",
       "      <td>245.0</td>\n",
       "      <td>17280.678637</td>\n",
       "      <td>70.533382</td>\n",
       "      <td>NaN</td>\n",
       "      <td>NaN</td>\n",
       "    </tr>\n",
       "  </tbody>\n",
       "</table>\n",
       "</div>"
      ],
      "text/plain": [
       "             df        sum_sq    mean_sq         F    PR(>F)\n",
       "Day         5.0    103.893554  20.778711  0.294594  0.915649\n",
       "Residual  245.0  17280.678637  70.533382       NaN       NaN"
      ]
     },
     "execution_count": 73,
     "metadata": {},
     "output_type": "execute_result"
    }
   ],
   "source": [
    "model = ols('BodyFat~Day', data=df_body).fit()\n",
    "aov = sm.stats.anova_lm(model, type=2)\n",
    "aov"
   ]
  },
  {
   "cell_type": "markdown",
   "id": "4bd86d30",
   "metadata": {},
   "source": [
    "We accept the null hypothesis"
   ]
  },
  {
   "cell_type": "markdown",
   "id": "e533d2c4-b1c8-43cd-becc-e6fc746e1e1a",
   "metadata": {},
   "source": [
    "## Time Series"
   ]
  },
  {
   "cell_type": "markdown",
   "id": "46a9f46b",
   "metadata": {},
   "source": []
  },
  {
   "cell_type": "code",
   "execution_count": 52,
   "id": "cbffa088-d723-440d-b1de-5a622c011913",
   "metadata": {},
   "outputs": [],
   "source": [
    "# https://www.kaggle.com/code/andreshg/timeseries-analysis-a-complete-guide"
   ]
  },
  {
   "cell_type": "markdown",
   "id": "90ff688c-f55b-493a-a18d-d13cddb2d673",
   "metadata": {},
   "source": [
    "## Clustering"
   ]
  },
  {
   "cell_type": "code",
   "execution_count": null,
   "id": "40d6b595-745e-4286-9d0d-e8ce360ad052",
   "metadata": {},
   "outputs": [],
   "source": []
  },
  {
   "cell_type": "markdown",
   "id": "092cb0ed-db7a-4950-b41f-efb81faa2073",
   "metadata": {},
   "source": [
    "## Sentiment Analysis"
   ]
  },
  {
   "cell_type": "code",
   "execution_count": null,
   "id": "af3aac22-5b14-4030-b62c-c4d34d9e414d",
   "metadata": {},
   "outputs": [],
   "source": [
    "https://www.kaggle.com/code/michawilkosz/twitter-sentiment-analysis-using-tensorflow"
   ]
  },
  {
   "cell_type": "code",
   "execution_count": null,
   "id": "8bb70080",
   "metadata": {},
   "outputs": [],
   "source": []
  }
 ],
 "metadata": {
  "kernelspec": {
   "display_name": "Python 3 (ipykernel)",
   "language": "python",
   "name": "python3"
  },
  "language_info": {
   "codemirror_mode": {
    "name": "ipython",
    "version": 3
   },
   "file_extension": ".py",
   "mimetype": "text/x-python",
   "name": "python",
   "nbconvert_exporter": "python",
   "pygments_lexer": "ipython3",
   "version": "3.11.5"
  }
 },
 "nbformat": 4,
 "nbformat_minor": 5
}
