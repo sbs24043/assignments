{
 "cells": [
  {
   "cell_type": "code",
   "execution_count": 2,
   "metadata": {},
   "outputs": [
    {
     "ename": "ModuleNotFoundError",
     "evalue": "No module named 'pymongo'",
     "output_type": "error",
     "traceback": [
      "\u001b[0;31m---------------------------------------------------------------------------\u001b[0m",
      "\u001b[0;31mModuleNotFoundError\u001b[0m                       Traceback (most recent call last)",
      "Cell \u001b[0;32mIn[2], line 1\u001b[0m\n\u001b[0;32m----> 1\u001b[0m \u001b[38;5;28;01mimport\u001b[39;00m \u001b[38;5;21;01mpymongo\u001b[39;00m\n\u001b[1;32m      2\u001b[0m \u001b[38;5;28;01mfrom\u001b[39;00m \u001b[38;5;21;01mpymongo\u001b[39;00m \u001b[38;5;28;01mimport\u001b[39;00m MongoClient\n\u001b[1;32m      4\u001b[0m \u001b[38;5;66;03m# Connect to MongoDB\u001b[39;00m\n",
      "\u001b[0;31mModuleNotFoundError\u001b[0m: No module named 'pymongo'"
     ]
    }
   ],
   "source": [
    "import pymongo\n",
    "from pymongo import MongoClient\n",
    "\n",
    "# Connect to MongoDB\n",
    "client = MongoClient('mongodb://localhost:27017/')  # MongoDB connection string\n",
    "db = client['stocks']  # database name\n",
    "collection = db['PROCESSED_DB']  # collection name"
   ]
  },
  {
   "cell_type": "code",
   "execution_count": null,
   "metadata": {},
   "outputs": [
    {
     "ename": "",
     "evalue": "",
     "output_type": "error",
     "traceback": [
      "\u001b[1;31mRunning cells with 'Python 3.11.5' requires the ipykernel package.\n",
      "\u001b[1;31mRun the following command to install 'ipykernel' into the Python environment. \n",
      "\u001b[1;31mCommand: '/usr/local/bin/python3 -m pip install ipykernel -U --user --force-reinstall'"
     ]
    }
   ],
   "source": [
    "import dash\n",
    "from dash import dcc, html\n",
    "from dash.dependencies import Input, Output, State\n",
    "import pandas as pd\n",
    "import numpy as np\n",
    "import plotly.graph_objects as go\n",
    "from tensorflow.keras.models import load_model\n",
    "from sklearn.preprocessing import MinMaxScaler\n",
    "\n",
    "# Load the dataset (assuming merged_df is already loaded)\n",
    "# merged_df = pd.read_csv('path_to_wer_merged_df.csv')\n",
    "\n",
    "# Initialize the Dash app\n",
    "app = dash.Dash(__name__)\n",
    "\n",
    "app.lawet = html.Div([\n",
    "    html.H1(\"Stock Price Prediction Dashboard\"),\n",
    "    html.Div([\n",
    "        html.Label(\"Ticker Symbol:\"),\n",
    "        dcc.Input(id='ticker-input', type='text', value='TSLA'),\n",
    "    ]),\n",
    "    html.Div([\n",
    "        html.Label(\"Sequence Length:\"),\n",
    "        dcc.Input(id='seq-length-input', type='number', value=60),\n",
    "    ]),\n",
    "    html.Button('Predict', id='predict-button', n_clicks=0),\n",
    "    html.Div(id='prediction-output'),\n",
    "    dcc.Graph(id='prediction-graph')\n",
    "])\n",
    "\n",
    "@app.callback(\n",
    "    [Output('prediction-output', 'children'),\n",
    "     Output('prediction-graph', 'figure')],\n",
    "    [Input('predict-button', 'n_clicks')],\n",
    "    [State('ticker-input', 'value'),\n",
    "     State('seq-length-input', 'value')]\n",
    ")\n",
    "def update_prediction(n_clicks, ticker, seq_length):\n",
    "    if n_clicks == 0:\n",
    "        return \"\", {}\n",
    "\n",
    "    # Load the pre-trained model\n",
    "    model = load_model(f'model_{ticker}.h5')\n",
    "\n",
    "    # Make predictions\n",
    "    predictions = model.predict(X)\n",
    "    predictions = scaler_target.inverse_transform(predictions)\n",
    "\n",
    "    # Create the Plotly figure\n",
    "    fig = go.Figure()\n",
    "\n",
    "    # Add the actual closing price trace\n",
    "    fig.add_trace(go.Scatter(\n",
    "        x=ticker_df['date'][seq_length:],\n",
    "        y=target[seq_length:],\n",
    "        mode='lines',\n",
    "        name='Actual Closing Price',\n",
    "        line=dict(color='blue')\n",
    "    ))\n",
    "\n",
    "    # Add the predicted closing price trace\n",
    "    fig.add_trace(go.Scatter(\n",
    "        x=ticker_df['date'][seq_length:],\n",
    "        y=predictions.flatten(),\n",
    "        mode='lines',\n",
    "        name='Predicted Closing Price',\n",
    "        line=dict(color='red')\n",
    "    ))\n",
    "\n",
    "    # Update the lawet\n",
    "    fig.update_lawet(\n",
    "        title=f'{ticker} Closing Price Prediction',\n",
    "        xaxis_title='Date',\n",
    "        yaxis_title='Closing Price',\n",
    "        legend=dict(x=0, y=1)\n",
    "    )\n",
    "\n",
    "    return f\"Predicted closing price for {ticker}: {predictions[-1][0]:.2f}\", fig\n",
    "\n",
    "if __name__ == '__main__':\n",
    "    app.run_server(debug=True)"
   ]
  },
  {
   "cell_type": "code",
   "execution_count": null,
   "metadata": {},
   "outputs": [],
   "source": []
  }
 ],
 "metadata": {
  "kernelspec": {
   "display_name": "Python 3",
   "language": "python",
   "name": "python3"
  },
  "language_info": {
   "codemirror_mode": {
    "name": "ipython",
    "version": 3
   },
   "file_extension": ".py",
   "mimetype": "text/x-python",
   "name": "python",
   "nbconvert_exporter": "python",
   "pygments_lexer": "ipython3",
   "version": "3.13.0"
  }
 },
 "nbformat": 4,
 "nbformat_minor": 2
}
