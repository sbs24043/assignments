{
 "cells": [
  {
   "cell_type": "code",
   "execution_count": null,
   "metadata": {},
   "outputs": [],
   "source": []
  },
  {
   "cell_type": "code",
   "execution_count": 9,
   "metadata": {},
   "outputs": [],
   "source": [
    "import pandas as pd\n",
    "merged_df = pd.read_csv('data/merged_df.csv')\n",
    "\n",
    "import pymongo\n",
    "from pymongo import MongoClient\n",
    "\n",
    "# # Connect to MongoDB\n",
    "client = MongoClient('mongodb://localhost:27017/')  # MongoDB connection string"
   ]
  },
  {
   "cell_type": "code",
   "execution_count": 12,
   "metadata": {},
   "outputs": [
    {
     "data": {
      "text/html": [
       "\n",
       "        <iframe\n",
       "            width=\"100%\"\n",
       "            height=\"650\"\n",
       "            src=\"http://127.0.0.1:8050/\"\n",
       "            frameborder=\"0\"\n",
       "            allowfullscreen\n",
       "            \n",
       "        ></iframe>\n",
       "        "
      ],
      "text/plain": [
       "<IPython.lib.display.IFrame at 0x134ef8ad0>"
      ]
     },
     "metadata": {},
     "output_type": "display_data"
    },
    {
     "name": "stdout",
     "output_type": "stream",
     "text": [
      "<pymongo.synchronous.cursor.Cursor object at 0x13560c3d0>\n"
     ]
    }
   ],
   "source": [
    "import dash\n",
    "from dash import dcc, html\n",
    "from dash.dependencies import Input, Output, State\n",
    "import pandas as pd\n",
    "import numpy as np\n",
    "import plotly.graph_objects as go\n",
    "from tensorflow.keras.models import load_model\n",
    "from sklearn.preprocessing import MinMaxScaler\n",
    "\n",
    "from tensorflow.keras.models import model_from_json\n",
    "\n",
    "# Load the dataset (assuming merged_df is already loaded)\n",
    "# merged_df = pd.read_csv('path_to_wer_merged_df.csv')\n",
    "\n",
    "# Initialize the Dash app\n",
    "app = dash.Dash(__name__)\n",
    "\n",
    "dropdown_options = ['TSLA', 'AAPL', 'GOOG', 'AMZN', 'MSFT']\n",
    "\n",
    "app.layout = html.Div([\n",
    "    html.H1(\"Stock Price Prediction Dashboard\"),\n",
    "    dcc.Dropdown(\n",
    "        id='stock-dropdown',\n",
    "        options=dropdown_options,\n",
    "        value='AAPL',  # Default value\n",
    "        placeholder=\"Select a stock\"\n",
    "    ),\n",
    "    html.Div([\n",
    "        html.Label(\"Sequence Length:\"),\n",
    "        dcc.Input(id='seq-length-input', type='number', value=7),\n",
    "    ]),\n",
    "    html.Button('Predict', id='predict-button', n_clicks=0),\n",
    "    html.Div(id='prediction-output'),\n",
    "    dcc.Graph(id='prediction-graph')\n",
    "])\n",
    "\n",
    "@app.callback(\n",
    "    [Output('prediction-output', 'children'),\n",
    "     Output('prediction-graph', 'figure')],\n",
    "\n",
    "    [Input('predict-button', 'n_clicks')],\n",
    "    [Input('stock-dropdown', 'value'),\n",
    "     Input('seq-length-input', 'value')]\n",
    ")\n",
    "def update_prediction(n_clicks, ticker, seq_length):\n",
    "    if n_clicks == 0:\n",
    "        return \"\", {}\n",
    "\n",
    "    # Load the pre-trained model\n",
    "    model = load_model(f'models/rnn/{ticker}_{seq_length}.keras')\n",
    "\n",
    "    ticker_df = merged_df[merged_df['ticker'] == ticker]\n",
    "\n",
    "    data, labels = prep_ticker_data(ticker, merged_df)\n",
    "    X_train, X_test, y_train, y_test, scaler, split = scale_and_split(labels, seq_length)\n",
    "\n",
    "    predictions = model.predict(X_test)\n",
    "    predictions = scaler.inverse_transform(predictions)\n",
    "\n",
    "    return \"\", {}\n",
    "\n",
    "    # Make predictions\n",
    "    # predictions = model.predict(['2022-10-13'])\n",
    "\n",
    "    # # Create the Plotly figure\n",
    "    # fig = go.Figure()\n",
    "\n",
    "    # # Add the actual closing price trace\n",
    "    # fig.add_trace(go.Scatter(\n",
    "    #     x=ticker_df['date'][seq_length:],\n",
    "    #     y=ticker_df['close'][seq_length:],\n",
    "    #     mode='lines',\n",
    "    #     name='Actual Closing Price',\n",
    "    #     line=dict(color='blue')\n",
    "    # ))\n",
    "\n",
    "    # # Add the predicted closing price trace\n",
    "    # fig.add_trace(go.Scatter(\n",
    "    #     x=ticker_df['date'][seq_length:],\n",
    "    #     y=predictions.flatten(),\n",
    "    #     mode='lines',\n",
    "    #     name='Predicted Closing Price',\n",
    "    #     line=dict(color='red')\n",
    "    # ))\n",
    "\n",
    "    # # Update the lawet\n",
    "    # fig.update_lawet(\n",
    "    #     title=f'{ticker} Closing Price Prediction',\n",
    "    #     xaxis_title='Date',\n",
    "    #     yaxis_title='Closing Price',\n",
    "    #     legend=dict(x=0, y=1)\n",
    "    # )\n",
    "\n",
    "    # return f\"Predicted closing price for {ticker}: {predictions[-1][0]:.2f}\", fig\n",
    "\n",
    "if __name__ == '__main__':\n",
    "    app.run_server(debug=True)"
   ]
  },
  {
   "cell_type": "code",
   "execution_count": null,
   "metadata": {},
   "outputs": [],
   "source": []
  }
 ],
 "metadata": {
  "kernelspec": {
   "display_name": "Python 3",
   "language": "python",
   "name": "python3"
  },
  "language_info": {
   "codemirror_mode": {
    "name": "ipython",
    "version": 3
   },
   "file_extension": ".py",
   "mimetype": "text/x-python",
   "name": "python",
   "nbconvert_exporter": "python",
   "pygments_lexer": "ipython3",
   "version": "3.11.10"
  }
 },
 "nbformat": 4,
 "nbformat_minor": 2
}
