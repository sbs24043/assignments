{
 "cells": [
  {
   "cell_type": "code",
   "execution_count": 28,
   "id": "35219258",
   "metadata": {},
   "outputs": [],
   "source": [
    "import serial, struct, numpy as np\n",
    "from PIL import Image  \n",
    "from serial.tools import list_ports\n"
   ]
  },
  {
   "cell_type": "code",
   "execution_count": 6,
   "id": "140ef5f4",
   "metadata": {},
   "outputs": [
    {
     "name": "stdout",
     "output_type": "stream",
     "text": [
      "[Errno 2] could not open port cu.BLTH: [Errno 2] No such file or directory: 'cu.BLTH'\n",
      "[Errno 2] could not open port cu.Bluetooth-Incoming-Port: [Errno 2] No such file or directory: 'cu.Bluetooth-Incoming-Port'\n",
      "[Errno 2] could not open port cu.usbmodem143101: [Errno 2] No such file or directory: 'cu.usbmodem143101'\n",
      "[]\n"
     ]
    }
   ],
   "source": [
    "#Alphabetically lists the ports by name\n",
    "def comslist():\n",
    "    ports = []\n",
    "    for i in list_ports.comports():\n",
    "        try:\n",
    "            ser = serial.Serial(i.name)\n",
    "            ser.close()\n",
    "        except serial.SerialException as e:\n",
    "            print(e)\n",
    "        else:\n",
    "            ports.append(i.name)\n",
    "    ports.sort()\n",
    "    return ports\n",
    "\n",
    "#Finds the desired port using the name eg COM1\n",
    "def selectcom(port):\n",
    "    try :\n",
    "        ser = serial.Serial(port)\n",
    "    except serial.SerialException as e:\n",
    "        print(e)\n",
    "    else:\n",
    "        return ser\n",
    "    \n",
    "print(comslist())\n"
   ]
  },
  {
   "cell_type": "code",
   "execution_count": 31,
   "id": "c2e68826",
   "metadata": {},
   "outputs": [
    {
     "data": {
      "text/plain": [
       "b'image classification model determined category as 6\\r\\n'"
      ]
     },
     "execution_count": 31,
     "metadata": {},
     "output_type": "execute_result"
    }
   ],
   "source": [
    "def prepare_image(path: str) -> np.ndarray:\n",
    "    img = Image.open(path).convert(\"L\")\n",
    "\n",
    "    # --- keep aspect ratio ---\n",
    "    img.thumbnail((28, 28), Image.Resampling.LANCZOS)      # longest side = 28\n",
    "    canvas = Image.new(\"L\", (28, 28), 0)                   # black background\n",
    "    x = (28 - img.width)  // 2\n",
    "    y = (28 - img.height) // 2\n",
    "    canvas.paste(img, (x, y))\n",
    "\n",
    "    return np.asarray(canvas, dtype=np.uint8).flatten()\n",
    "\n",
    "img = prepare_image(\"image1.jpg\")\n",
    "arduino = serial.Serial(port='/dev/tty.usbmodem143101', baudrate=115200, timeout=.1) \n",
    "arduino.write(b'I')                                  # sync\n",
    "arduino.write(struct.pack('<I', len(img)))\n",
    "arduino.write(img.tobytes())\n",
    "\n",
    "arduino.read_until(b'\\n')                              # wait for response"
   ]
  },
  {
   "cell_type": "code",
   "execution_count": 32,
   "id": "d3a063db",
   "metadata": {},
   "outputs": [],
   "source": [
    "arduino.close()"
   ]
  },
  {
   "cell_type": "code",
   "execution_count": null,
   "id": "2f91d5a1",
   "metadata": {},
   "outputs": [],
   "source": []
  }
 ],
 "metadata": {
  "kernelspec": {
   "display_name": "Python 3",
   "language": "python",
   "name": "python3"
  },
  "language_info": {
   "codemirror_mode": {
    "name": "ipython",
    "version": 3
   },
   "file_extension": ".py",
   "mimetype": "text/x-python",
   "name": "python",
   "nbconvert_exporter": "python",
   "pygments_lexer": "ipython3",
   "version": "3.11.10"
  }
 },
 "nbformat": 4,
 "nbformat_minor": 5
}
